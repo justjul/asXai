{
 "cells": [
  {
   "cell_type": "code",
   "execution_count": 1,
   "metadata": {},
   "outputs": [],
   "source": [
    "#Download arxiv data through kaggle CLI or from semantics scholar with fetch_database.ipynb\n",
    "#(For arXiv, make sure your phone and identity have been verified in your profile before dowloading the access token from kaggle\n",
    "# then run the CLI -> kaggle datasets download -d Cornell-University/arxiv -p destination_folder --unzip"
   ]
  },
  {
   "cell_type": "code",
   "execution_count": 4,
   "metadata": {},
   "outputs": [],
   "source": [
    "import sys\n",
    "sys.path.append(\"..\")\n",
    "sys.path.append(\"../streamlit\")\n",
    "\n",
    "import pandas as pd\n",
    "\n",
    "metadata_sample = \"../streamlit/data/metadata_2025.parquet\"\n",
    "textdata_sample = \"../streamlit/data/text_2025.parquet\"\n",
    "\n",
    "meta_df = pd.read_parquet(metadata_sample).head(100)\n",
    "text_df = pd.read_parquet(textdata_sample).head(100)\n",
    "\n",
    "meta_df.to_csv(\"../streamlit/data/metadata_sample_2025.csv\")\n",
    "text_df.to_csv(\"../streamlit/data/textdata_sample_2025.csv\")"
   ]
  },
  {
   "cell_type": "code",
   "execution_count": 1,
   "metadata": {},
   "outputs": [],
   "source": [
    "import os\n",
    "import sys\n",
    "\n",
    "#Import config file. Update config.py according to your environment\n",
    "import config\n",
    "\n",
    "import pandas as pd\n",
    "import numpy as np\n",
    "import h5py\n",
    "\n",
    "import requests, json\n",
    "\n",
    "from transformers import AutoTokenizer, AutoModel\n",
    "from adapters import AutoAdapterModel\n",
    "import torch\n",
    "import torch.nn.functional as F\n",
    "\n",
    "from tqdm import tqdm\n",
    "import time"
   ]
  },
  {
   "cell_type": "code",
   "execution_count": 2,
   "metadata": {},
   "outputs": [],
   "source": [
    "dataset_source = 'semanticsscholar' #'arxiv'"
   ]
  },
  {
   "cell_type": "markdown",
   "metadata": {},
   "source": [
    "## 1. Load dataset"
   ]
  },
  {
   "cell_type": "code",
   "execution_count": 3,
   "metadata": {},
   "outputs": [
    {
     "data": {
      "application/vnd.microsoft.datawrangler.viewer.v0+json": {
       "columns": [
        {
         "name": "index",
         "rawType": "int64",
         "type": "integer"
        },
        {
         "name": "paperId",
         "rawType": "object",
         "type": "string"
        },
        {
         "name": "openAccessPdf",
         "rawType": "object",
         "type": "string"
        },
        {
         "name": "fieldsOfStudy",
         "rawType": "object",
         "type": "string"
        },
        {
         "name": "venue",
         "rawType": "object",
         "type": "string"
        },
        {
         "name": "authorName",
         "rawType": "object",
         "type": "string"
        },
        {
         "name": "authorId",
         "rawType": "object",
         "type": "string"
        },
        {
         "name": "citationCount",
         "rawType": "int64",
         "type": "integer"
        },
        {
         "name": "influentialCitationCount",
         "rawType": "float64",
         "type": "float"
        },
        {
         "name": "publicationDate",
         "rawType": "object",
         "type": "string"
        },
        {
         "name": "publicationYear",
         "rawType": "int64",
         "type": "integer"
        }
       ],
       "conversionMethod": "pd.DataFrame",
       "ref": "30e892e4-825b-40a7-a925-e9fa3f1cb04b",
       "rows": [
        [
         "0",
         "0001d5fbff6f7c763a78dd5d141292416dcfae59",
         "https://aacrjournals.org/clincancerres/article-pdf/11/7/2702/1962059/2702-2712.pdf",
         "Biology,Medicine",
         "Clinical Cancer Research",
         "T. Ishibe,T. Nakayama,T. Okamoto,T. Aoyama,K. Nishijo,K. Shibata,Y. Shima,S. Nagayama,T. Katagiri,Yusuke Nakamura,Takashi Nakamura,J. Toguchida",
         "14839966,10239302,2000448727,3201672,7147569,2066435363,31907929,4360342,7367122,144863658,145103616,3630533",
         "88",
         "6.0",
         "2005-04-01",
         "2005"
        ],
        [
         "1",
         "000372290caae5482dcdd7954feb895ccbab921d",
         "http://www.merl.com/publications/docs/TR2005-063.pdf",
         "Computer Science,Mathematics",
         "IEEE Transactions on Communications",
         "Juntan Zhang,M. Fossorier",
         "3193350,48891339",
         "319",
         "26.0",
         "2005-03-07",
         "2005"
        ],
        [
         "2",
         "000376ec6f6ade6261fc12df9eddd25a88c1e9ca",
         "https://www.jstage.jst.go.jp/article/bpb/28/8/28_8_1450/_pdf",
         "Medicine",
         "Biological and Pharmaceutical Bulletin",
         "Bi-qi Zhang,Shen-Jiang Hu,Lihong Qiu,Q. Shan,Jian Sun,Q. Xia,K. Bian",
         "11809650,6617669,123635715,11305673,2152146096,144130337,2144753879",
         "24",
         "2.0",
         "2005-08-01",
         "2005"
        ],
        [
         "3",
         "0003a5747ee3676be1b6d2c72c13a04e41811274",
         "https://onlinelibrary.wiley.com/doi/pdfdirect/10.1002/dvdy.20220",
         "Biology,Medicine",
         "Developmental Dynamics",
         "Barden Chan,S. Sinha,Dan Cho,R. Ramchandran,V. Sukhatme",
         "35690923,2114125286,2113252574,2134773,3658233",
         "53",
         "2.0",
         "2005-01-01",
         "2005"
        ],
        [
         "4",
         "00043e28cffe744909bf69cde70e6dac0bce0a10",
         "http://www.jbc.org/article/S0021925820589394/pdf",
         "Chemistry,Medicine",
         "Journal of Biological Chemistry",
         "M. Westfall,A. M. Lee,D. Robinson",
         "5025983,49249911,48706510",
         "70",
         "3.0",
         "2005-12-16",
         "2005"
        ],
        [
         "5",
         "0004b93367db8768d29c7e21bf410d55a30f5205",
         "http://dl.acm.org/ft_gateway.cfm?id=1047480&type=pdf",
         "Computer Science",
         "Technical Symposium on Computer Science Education",
         "Susan Bergin,R. Reilly",
         "145985158,2688685",
         "287",
         "26.0",
         "2005-02-23",
         "2005"
        ],
        [
         "6",
         "0004e56a361394b92b9ac1d15a524ef7ecfe2767",
         "https://www.ahajournals.org/doi/pdf/10.1161/01.ATV.0000168413.29874.d7",
         "Medicine,Biology",
         "Arteriosclerosis, Thrombosis and Vascular Biology",
         "E. Egorina,M. Sovershaev,G. Bjørkøy,F. Gruber,J. Olsen,B. Parhami-Seren,K. Mann,B. Østerud",
         "8887769,4962786,11414707,50148632,33502527,1398546666,3162218,5466077",
         "148",
         "2.0",
         "2005-07-01",
         "2005"
        ],
        [
         "7",
         "000646db4a4a269f9261f5b285ba1d07ef006809",
         "https://europepmc.org/articles/pmc549252?pdf=render",
         "Biology,Medicine",
         "Antimicrobial Agents and Chemotherapy",
         "T. Levin,B. Suh,P. Axelrod,A. Truant,T. Fekete",
         "24218070,1941629,144104608,4961128,49307125",
         "179",
         "10.0",
         "2005-03-01",
         "2005"
        ],
        [
         "8",
         "0008826f79633b9d5738551ac67593d6456acd43",
         "http://www.commsp.ee.ic.ac.uk/~ng1/pdf/gehrigD_CL_Jan05.pdf",
         "Computer Science,Mathematics",
         "IEEE Communications Letters",
         "N. Gehrig,P. Dragotti",
         "3017159,2752909",
         "59",
         "5.0",
         "2005-01-10",
         "2005"
        ],
        [
         "9",
         "000a2234245d642c786a7355a15623444c33c1dc",
         "https://www.jimmunol.org/content/jimmunol/175/5/3140.full.pdf",
         "Biology,Medicine",
         "Journal of Immunology",
         "Suzel Davanture,J. Leignadier,Pascale Milani,P. Soubeyran,B. Malissen,M. Malissen,A. Schmitt-Verhulst,C. Boyer",
         "6084539,5629146,153940998,3941723,5534674,5153661,1400945749,1786102",
         "29",
         "0.0",
         "2005-09-01",
         "2005"
        ],
        [
         "10",
         "000bc721cefe3f2ba2425e8b95b042dc1e9778f9",
         "http://www.cs.ucr.edu/%7Ekishore/papers/tencon.pdf",
         "Computer Science",
         "IEEE Region 10 Conference",
         "A. Negi,K. P. Kishore",
         "1728262,2341041934",
         "41",
         "3.0",
         "2005-11-01",
         "2005"
        ],
        [
         "11",
         "000d7634ea82cea4ea3d1aac5e632f88e6736f05",
         "https://europepmc.org/articles/pmc1087730?pdf=render",
         "Biology,Medicine",
         "Molecular and Cellular Biology",
         "Takayoshi Bando,K. Sekine,Shizuka Kobayashi,A. M. Watabe,Armin Rump,Minoru Tanaka,Yoshikuni Suda,S. Kato,Y. Morikawa,T. Manabe,A. Miyajima",
         "24043805,2063038091,2110065840,40447710,32435082,2110038433,36341155,2568535,32275049,5658239,4789048",
         "38",
         "3.0",
         "2005-05-01",
         "2005"
        ],
        [
         "12",
         "000fd65de92d766ada2dab424f7f66e526e2f063",
         "https://infoscience.epfl.ch/record/87259/files/Cavallaro2005_1275.pdf",
         "Computer Science",
         "IEEE transactions on circuits and systems for video technology (Print)",
         "A. Cavallaro,Olivier Steiger,T. Ebrahimi",
         "145440152,2359024,1681498",
         "120",
         "7.0",
         "2005-10-01",
         "2005"
        ],
        [
         "13",
         "0010aa2b264826b06d3839c2f139da8286930131",
         "https://europepmc.org/articles/pmc1081291?pdf=render",
         "Medicine,Biology",
         "Journal of Clinical Microbiology",
         "S. Nunes,R. Sá-Leão,João André Carriço,C. Alves,R. Mato,A. B. Avô,J. Saldanha,J. Almeida,I. Sanches,H. de Lencastre",
         "3688641,1398826424,4908451,2053407517,12533308,10268213,40282052,116697293,2452668,2290923",
         "67",
         "2.0",
         "2005-03-01",
         "2005"
        ],
        [
         "14",
         "00111aa397aff132da8dcb2e4e9276d68d1cd4a6",
         "https://wwwnc.cdc.gov/eid/article/11/8/pdfs/04-1197.pdf",
         "Medicine",
         "Emerging Infectious Diseases",
         "P. Yagupsky,E. Baron",
         "6618694,39055987",
         "185",
         "2.0",
         "2005-08-01",
         "2005"
        ],
        [
         "15",
         "00127bef3dbe9388b9ddf936fc4d242c208dc606",
         "https://hal.inria.fr/inria-00182046/file/2005-petti-fraichard-iros.pdf",
         "Engineering,Computer Science",
         "2005 IEEE/RSJ International Conference on Intelligent Robots and Systems",
         "S. Petti,Thierry Fraichard",
         "40180963,1694234",
         "287",
         "17.0",
         "2005-12-05",
         "2005"
        ],
        [
         "16",
         "0012aecca19e4d3e41741599b1dbd00fb46d0c22",
         "https://academic.oup.com/carcin/article-pdf/26/12/2157/7088641/bgi195.pdf",
         "Medicine",
         "Carcinogenesis",
         "R. Rajagopal,M. Deakin,A. Fawole,J. Elder,J. Elder,V. Smith,R. Strange,A. Fryer",
         "2573963,2004776,15074846,145503858,145503858,2056036524,1931855,34067155",
         "19",
         "1.0",
         "2005-12-01",
         "2005"
        ],
        [
         "17",
         "001356ecc6393aeb0997ee1bc5b47b423587fdff",
         "https://onlinelibrary.wiley.com/doi/pdfdirect/10.1111/j.1742-4658.2004.04487.x",
         "Biology,Medicine",
         "The FEBS Journal",
         "T. Utsumi,H. Ohta,Y. Kayano,N. Sakurai,Y. Ozoe",
         "6319788,122141924,49256899,48638495,6146172",
         "22",
         "0.0",
         "2005-01-01",
         "2005"
        ],
        [
         "18",
         "00147c55961b99b39b3c6ede1d0e231929c4bf10",
         "https://europepmc.org/articles/pmc1134930?pdf=render",
         "Medicine,Biology",
         "Biochemical Journal",
         "S. Mousavi,Mitsuru Sato,Marita Sporstøl,B. Smedsrød,T. Berg,N. Kojima,H. Senoo",
         "145278181,47702160,1402638735,1432387861,145476071,50662160,4710114",
         "37",
         "1.0",
         "2005-04-01",
         "2005"
        ],
        [
         "19",
         "0016746ad49041402c38da533049ebe0fe9539d1",
         "https://europepmc.org/articles/pmc538921?pdf=render",
         "Medicine,Biology",
         "Antimicrobial Agents and Chemotherapy",
         "L. Poirel,M. Lartigue,J. Decousser,P. Nordmann",
         "6593096,40361075,46491845,5228247",
         "233",
         "8.0",
         "2005-01-01",
         "2005"
        ],
        [
         "20",
         "0018ece872bb78b06eb26ea35d5ed27f53702ce6",
         "https://academic.oup.com/bioinformatics/article-pdf/21/10/2558/48972005/bioinformatics_21_10_2558.pdf",
         "Computer Science,Medicine,Biology",
         "Bioinform.",
         "Shailesh V. Date,E. Marcotte",
         "2124202,1853998",
         "18",
         "0.0",
         "2005-05-15",
         "2005"
        ],
        [
         "21",
         "001a3ef673ee3e7703c7db597386a2162a2dc402",
         "https://academic.oup.com/icb/article-pdf/45/3/391/1674343/i1540-7063-045-03-0391.pdf",
         "Medicine,Biology",
         "Integrative and Comparative Biology",
         "R. Fuller,C. Baer,J. Travis",
         "7240006,2435258,145389296",
         "137",
         "8.0",
         "2005-06-01",
         "2005"
        ],
        [
         "22",
         "001b635f95e9ed2b69830e84a0be4d7748033106",
         "https://zenodo.org/record/1259441/files/article.pdf",
         "Biology,Medicine",
         "Virus Research",
         "I. Kuzmin,G. Hughes,A. Botvinkin,L. Orciari,C. Rupprecht",
         "31991394,145378585,4167987,4216439,1727205",
         "187",
         "15.0",
         "2005-07-01",
         "2005"
        ],
        [
         "23",
         "001c244e51484df18db5d96722887ea4a0063e0f",
         "https://www.jneurosci.org/content/jneuro/25/48/11071.full.pdf",
         "Psychology,Medicine",
         "Journal of Neuroscience",
         "Y. Sugase-Miyamoto,B. Richmond",
         "1400827629,3007646",
         "110",
         "5.0",
         "2005-11-30",
         "2005"
        ],
        [
         "24",
         "001c41c640543a02eb1cf2aa978093d80f719620",
         "https://europepmc.org/articles/pmc1323209?pdf=render",
         "Biology,Medicine",
         "Proceedings of the National Academy of Sciences of the United States of America",
         "Huiling He,K. Jażdżewski,Wei Li,S. Liyanarachchi,R. Nagy,S. Volinia,G. Calin,Chang-gong Liu,K. Franssila,S. Suster,R. Kloos,C. Croce,A. de la Chapelle",
         "2328535,3744462,2157336158,2934528,32344884,1906416,2124909,16073087,4761141,3162753,3481071,144749275,3597724",
         "1251",
         "59.0",
         "2005-12-27",
         "2005"
        ],
        [
         "25",
         "001ce484190e733e0d1dee181f9ee37fd0b15581",
         "https://academic.oup.com/jimb/article-pdf/32/7/301/34739283/jimb0301.pdf",
         "Biology,Medicine",
         "Journal of Industrial Microbiology & Biotechnology",
         "L. Beuchat,C. Pettigrew,M. Tremblay,B. J. Roselle,A. Scouten",
         "5992117,5613293,2054407528,2080517093,144590251",
         "47",
         "6.0",
         "2005-04-22",
         "2005"
        ],
        [
         "26",
         "001d36fbb5d1be8a5cb40d2df36bc05179f15ff4",
         "https://onlinelibrary.wiley.com/doi/pdfdirect/10.1002/cncr.20947",
         "Biology,Medicine",
         "Cancer",
         "R. Kim",
         "2592641",
         "315",
         "15.0",
         "2005-04-15",
         "2005"
        ],
        [
         "27",
         "001e671482c0a1336ad28cbfdfd76af665227433",
         "https://onlinelibrary.wiley.com/doi/pdfdirect/10.1111/j.1742-4658.2005.04623.x",
         "Biology,Medicine",
         "The FEBS Journal",
         "Ronja Tasler,T. Moises,N. Frankenberg‐Dinkel",
         "5801680,14847601,1399196272",
         "104",
         "6.0",
         "2005-04-01",
         "2005"
        ],
        [
         "28",
         "001fbed2006728779468663f65cccd51285c9f7d",
         "http://www.jlr.org/article/S0022227520340323/pdf",
         "Biology,Medicine",
         "Journal of Lipid Research",
         "C. Villeneuve,M. Gilleron,I. Maridonneau-Parini,M. Daffé,C. Astarie-Dequeker,G. Etienne",
         "48980754,144505377,1397966565,5407662,1401604315,47231979",
         "107",
         "6.0",
         "2005-03-01",
         "2005"
        ],
        [
         "29",
         "0020220e317cd7c4ef87a8296677701d4e6a7c42",
         "https://www.cambridge.org/core/services/aop-cambridge-core/content/view/D4334A1A0F9096B08FAE923BAB0CA36D/S0029665105000194a.pdf/div-class-title-insights-from-the-developing-world-thrifty-genotypes-and-thrifty-phenotypes-div.pdf",
         "Medicine,Biology",
         "Proceedings of the Nutrition Society",
         "A. Prentice,P. Rayco-Solon,S. Moore",
         "3674816,1401327164,48773910",
         "205",
         "7.0",
         "2005-05-01",
         "2005"
        ],
        [
         "30",
         "00206ca6a32791adcca5effdfed6eecd035075f4",
         "http://www.vision.caltech.edu/malaa/publications/atiya05sparse.pdf",
         "Computer Science,Medicine",
         "IEEE Transactions on Neural Networks",
         "A. Atiya,Mohamed A. Aly,A. Parlos",
         "1686506,144933112,1838904",
         "35",
         "1.0",
         "2005-09-01",
         "2005"
        ],
        [
         "31",
         "0020d5bdfc5f13026e7a1aca78e94724e8342b62",
         "https://rupress.org/jem/article-pdf/201/6/881/1153938/jem2016881.pdf",
         "Biology,Medicine",
         "Journal of Experimental Medicine",
         "K. Turcotte,S. Gauthier,A. Tuite,A. Mullick,D. Malo,P. Gros",
         "2106108767,46813877,6563462,145705716,144605952,144829585",
         "109",
         "6.0",
         "2005-03-21",
         "2005"
        ],
        [
         "32",
         "0022e70878c2f2a7c3c679a3ef3160a5cb803e20",
         "https://academic.oup.com/mend/article-pdf/19/11/2696/10717141/mend2696.pdf",
         "Biology,Medicine",
         "Molecular Endocrinology",
         "Jing Huang,Xiaodong Li,C. Maguire,R. Hilf,R. Bambara,M. Muyan",
         "2145740413,2118899174,12605892,4551110,5522510,6431895",
         "45",
         "0.0",
         "2005-11-01",
         "2005"
        ],
        [
         "33",
         "002348cfd4535febd8cc865cddd1f98a5de57c32",
         "https://ir.vanderbilt.edu/bitstream/1803/13704/1/ms-thesis-manish-kushwaha.pdf",
         "Computer Science",
         "IEEE International Conference on Mobile Adhoc and Sensor Systems Conference, 2005.",
         "Manish Kushwaha,K. Molnár,J. Sallai,P. Völgyesi,M. Maróti,Á. Lédeczi",
         "2181068,2065280567,1717457,1740862,1692190,1721042",
         "70",
         "5.0",
         "2005-12-12",
         "2005"
        ],
        [
         "34",
         "00236516f5be65f61e6fffa20a9ea4ff630b9a7e",
         "http://archive.nyu.edu/bitstream/2451/14996/2/Infosec_Book%2bWattal%2bTelang.pdf",
         "Business,Computer Science",
         "Workshop on the Economics of Information Security",
         "Rahul Telang,S. Wattal",
         "145961354,2628487",
         "80",
         "3.0",
         "2005-02-01",
         "2005"
        ],
        [
         "35",
         "0023cadbf311b9bffb7b283fd2e2edded70b640d",
         "https://apsjournals.apsnet.org/doi/pdf/10.1094/PHYTO-95-1423",
         "Biology,Medicine",
         "Phytopathology",
         "C. Silvar,J. Diaz,F. Merino",
         "6248808,152435507,145620908",
         "63",
         "1.0",
         "2005-12-01",
         "2005"
        ],
        [
         "36",
         "0025bd43353f35f1564e81101155689b6bc62646",
         "https://europepmc.org/articles/pmc1069588?pdf=render",
         "Biology,Medicine",
         "Molecular and Cellular Biology",
         "T. Adachi-Yamada,Toshiyuki Harumoto,Kayoko Sakurai,R. Ueda,K. Saigo,M. O’Connor,H. Nakato",
         "1399592175,6637499,3515490,34604795,33751317,7615853,3971771",
         "23",
         "1.0",
         "2005-04-01",
         "2005"
        ],
        [
         "37",
         "0025eebeec63c1e7a74d3d1f355fe0cd214a504f",
         "https://europepmc.org/articles/pmc2522321?pdf=render",
         "Medicine,Biology",
         "Journal of Proteome Research",
         "K. Anderson,J. LaBaer",
         "2700838,2112063",
         "311",
         "12.0",
         "2005-06-18",
         "2005"
        ],
        [
         "38",
         "00274747f36c8ebe700bd4a2c0a8e4d851ddf807",
         "http://www.jbc.org/article/S0021925820792379/pdf",
         "Chemistry,Medicine",
         "Journal of Biological Chemistry",
         "E. Gagnon,M. Bergeron,Nikolas D. Daigle,Marie-Hélène Lefoll,P. Isenring",
         "117842903,5297299,40563519,4943153,144981400",
         "30",
         "1.0",
         "2005-09-16",
         "2005"
        ],
        [
         "39",
         "00295936451c8a6b8a982d6ba9ab64cb647370ae",
         "https://academic.oup.com/ajcn/article-pdf/81/2/440/23875105/440.pdf",
         "Medicine,Biology",
         "American Journal of Clinical Nutrition",
         "Kerry‐Ann da Costa,Christopher E. Gaffney,L. Fischer,S. Zeisel",
         "4038445,2054146022,38060603,2804284",
         "156",
         "1.0",
         "2005-02-01",
         "2005"
        ],
        [
         "40",
         "002a108f32eb157c0b88aea3c6f29d4b614c3b78",
         "https://academic.oup.com/toxsci/article-pdf/86/1/161/4657319/kfi172.pdf",
         "Biology,Medicine",
         "Toxicological Sciences",
         "C. Bowman,K. Turner,M. Sar,N. Barlow,K. Gaido,P. Foster",
         "5835636,121132152,4754930,39737755,4832338,41131499",
         "34",
         "0.0",
         "2005-07-01",
         "2005"
        ],
        [
         "41",
         "002a7a3e268e18203c78c3e2902ac1cd39f5dff9",
         "https://www.spiedigitallibrary.org/journals/journal-of-biomedical-optics/volume-10/issue-5/051604/Prospective-grading-of-neoplastic-change-in-rat-esophagus-epithelium-using/10.1117/1.2102767.pdf",
         "Medicine",
         "Journal of Biomedical Optics",
         "A. Wax,J. Pyhtila,R. Graf,R. Nines,C. Boone,R. Dasari,M. Feld,V. Steele,G. Stoner",
         "6601645,2596802,39855573,5362380,48807863,6398265,145506659,5086274,3306303",
         "65",
         "2.0",
         "2005-09-01",
         "2005"
        ],
        [
         "42",
         "002b13e918af5ff02210a66ae36361810a1f9d22",
         "https://access.archive-ouverte.unige.ch/access/metadata/414fbfe1-4481-4240-92c1-e62a3593f0f0/download",
         "Psychology,Medicine",
         "Emotion",
         "T. Brosch,D. Sharma",
         "2256291,34546725",
         "153",
         "10.0",
         "2005-09-01",
         "2005"
        ],
        [
         "43",
         "002b2d9da5439eb1d847ab261f03e536e0880362",
         "https://www.jstage.jst.go.jp/article/expanim/54/5/54_5_461/_pdf",
         "Medicine",
         "Experimental animals",
         "M. Asakawa,T. Yoshioka,I. Hikita,T. Matsutani,T. Hirasawa,A. Arimura,T. Sakata,T. Horikawa",
         "50156427,2001345,5223435,5352485,34764605,47810324,48565673,143893766",
         "23",
         "1.0",
         "2005-10-01",
         "2005"
        ],
        [
         "44",
         "002bc0bcbf3b5f2dc32d0f9690afddeeadebe2f3",
         "http://www.cell.com/article/S009286740500098X/pdf",
         "Biology,Medicine",
         "Cell",
         "I. Krylova,E. Sablin,Jamie M. R. Moore,R. Xu,G. Waitt,J. A. MacKay,D. Juzumiene,J. Bynum,K. Madauss,V. Montana,L. Lebedeva,M. Suzawa,Jon D. Williams,Shawn P. Williams,R. Guy,J. W. Thornton,R. Fletterick,T. Willson,H. Ingraham",
         "34437421,5695081,2108562213,4605417,7978640,144066376,47866582,48218038,3502869,4051165,2106094788,40606710,51017082,23919632,144399402,3722546,4009116,5064590,3514504",
         "405",
         "18.0",
         "2005-02-11",
         "2005"
        ],
        [
         "45",
         "002c2130f79dcbd4ddd5866fd302a424fb8914e8",
         "https://www.ahajournals.org/doi/pdf/10.1161/01.HYP.0000184251.01159.72",
         "Chemistry,Medicine",
         "HYPERTENSION",
         "C. Zeng,Z. Wang,U. Hopfer,L. Asico,G. Eisner,R. Felder,P. Jose",
         "49386778,48708059,4337525,6316449,38877762,1955072,3561892",
         "39",
         "1.0",
         "2005-10-01",
         "2005"
        ],
        [
         "46",
         "002c412eb8a1ec7a73278e2f447f5a0a914e35c8",
         "https://jcp.bmj.com/content/jclinpath/58/9/991.full.pdf",
         "Biology,Medicine",
         "Journal of Clinical Pathology",
         "Giulio Rossi,G. Sartori,Riccardo Valli,F. Bertolini,Nazzarena Bigiani,L. Schirosi,A. Cavazza,G. Luppi",
         "2248858530,143679786,2251605562,2251555357,12435222,48791235,3835552,2251360364",
         "23",
         "3.0",
         "2005-08-26",
         "2005"
        ],
        [
         "47",
         "002cc193a7a313a08711d45ac3bea51509e0edc0",
         "https://rep.bioscientifica.com/downloadpdf/journals/rep/129/2/1290171.pdf",
         "Medicine,Biology",
         "Reproduction",
         "J. Ito,M. Hirabayashi,Megumi Kato,A. Takeuchi,Mayumi Ito,M. Shimada,S. Hochi",
         "38681521,34621985,32885513,152918649,50230871,10276380,5629712",
         "41",
         "3.0",
         "2005-02-01",
         "2005"
        ],
        [
         "48",
         "002cc4c2e457c3cc0fb0f704d0483a003e8a0575",
         "https://academic.oup.com/jac/article-pdf/56/4/686/2308205/dki309.pdf",
         "Medicine,Biology",
         "Journal of Antimicrobial Chemotherapy",
         "L. Halbert,J. Kaneene,L. Mansfield,P. Ruegg,L. Warnick,S. Wells,C. Fossler,A. Campbell,Angela M Geiger-Zwald",
         "12508766,5363293,3666808,6381510,5534287,32612292,12064236,144131845,1422352824",
         "18",
         "1.0",
         "2005-10-01",
         "2005"
        ],
        [
         "49",
         "002d29c3ca9c915040b454c1572a89378eec6a72",
         "http://arxiv.org/pdf/1111.4445.pdf",
         "Mathematics,Computer Science",
         "SIAM Journal on Numerical Analysis",
         "Y. Kuznetsov,W. Govaerts,E. Doedel,Annick Dhooge",
         "1775504,1797969,2966430,2713848",
         "35",
         "2.0",
         "2005-04-01",
         "2005"
        ]
       ],
       "shape": {
        "columns": 10,
        "rows": 3737193
       }
      },
      "text/html": [
       "<div>\n",
       "<style scoped>\n",
       "    .dataframe tbody tr th:only-of-type {\n",
       "        vertical-align: middle;\n",
       "    }\n",
       "\n",
       "    .dataframe tbody tr th {\n",
       "        vertical-align: top;\n",
       "    }\n",
       "\n",
       "    .dataframe thead th {\n",
       "        text-align: right;\n",
       "    }\n",
       "</style>\n",
       "<table border=\"1\" class=\"dataframe\">\n",
       "  <thead>\n",
       "    <tr style=\"text-align: right;\">\n",
       "      <th></th>\n",
       "      <th>paperId</th>\n",
       "      <th>openAccessPdf</th>\n",
       "      <th>fieldsOfStudy</th>\n",
       "      <th>venue</th>\n",
       "      <th>authorName</th>\n",
       "      <th>authorId</th>\n",
       "      <th>citationCount</th>\n",
       "      <th>influentialCitationCount</th>\n",
       "      <th>publicationDate</th>\n",
       "      <th>publicationYear</th>\n",
       "    </tr>\n",
       "  </thead>\n",
       "  <tbody>\n",
       "    <tr>\n",
       "      <th>0</th>\n",
       "      <td>0001d5fbff6f7c763a78dd5d141292416dcfae59</td>\n",
       "      <td>https://aacrjournals.org/clincancerres/article...</td>\n",
       "      <td>Biology,Medicine</td>\n",
       "      <td>Clinical Cancer Research</td>\n",
       "      <td>T. Ishibe,T. Nakayama,T. Okamoto,T. Aoyama,K. ...</td>\n",
       "      <td>14839966,10239302,2000448727,3201672,7147569,2...</td>\n",
       "      <td>88</td>\n",
       "      <td>6.0</td>\n",
       "      <td>2005-04-01</td>\n",
       "      <td>2005</td>\n",
       "    </tr>\n",
       "    <tr>\n",
       "      <th>1</th>\n",
       "      <td>000372290caae5482dcdd7954feb895ccbab921d</td>\n",
       "      <td>http://www.merl.com/publications/docs/TR2005-0...</td>\n",
       "      <td>Computer Science,Mathematics</td>\n",
       "      <td>IEEE Transactions on Communications</td>\n",
       "      <td>Juntan Zhang,M. Fossorier</td>\n",
       "      <td>3193350,48891339</td>\n",
       "      <td>319</td>\n",
       "      <td>26.0</td>\n",
       "      <td>2005-03-07</td>\n",
       "      <td>2005</td>\n",
       "    </tr>\n",
       "    <tr>\n",
       "      <th>2</th>\n",
       "      <td>000376ec6f6ade6261fc12df9eddd25a88c1e9ca</td>\n",
       "      <td>https://www.jstage.jst.go.jp/article/bpb/28/8/...</td>\n",
       "      <td>Medicine</td>\n",
       "      <td>Biological and Pharmaceutical Bulletin</td>\n",
       "      <td>Bi-qi Zhang,Shen-Jiang Hu,Lihong Qiu,Q. Shan,J...</td>\n",
       "      <td>11809650,6617669,123635715,11305673,2152146096...</td>\n",
       "      <td>24</td>\n",
       "      <td>2.0</td>\n",
       "      <td>2005-08-01</td>\n",
       "      <td>2005</td>\n",
       "    </tr>\n",
       "    <tr>\n",
       "      <th>3</th>\n",
       "      <td>0003a5747ee3676be1b6d2c72c13a04e41811274</td>\n",
       "      <td>https://onlinelibrary.wiley.com/doi/pdfdirect/...</td>\n",
       "      <td>Biology,Medicine</td>\n",
       "      <td>Developmental Dynamics</td>\n",
       "      <td>Barden Chan,S. Sinha,Dan Cho,R. Ramchandran,V....</td>\n",
       "      <td>35690923,2114125286,2113252574,2134773,3658233</td>\n",
       "      <td>53</td>\n",
       "      <td>2.0</td>\n",
       "      <td>2005-01-01</td>\n",
       "      <td>2005</td>\n",
       "    </tr>\n",
       "    <tr>\n",
       "      <th>4</th>\n",
       "      <td>00043e28cffe744909bf69cde70e6dac0bce0a10</td>\n",
       "      <td>http://www.jbc.org/article/S0021925820589394/pdf</td>\n",
       "      <td>Chemistry,Medicine</td>\n",
       "      <td>Journal of Biological Chemistry</td>\n",
       "      <td>M. Westfall,A. M. Lee,D. Robinson</td>\n",
       "      <td>5025983,49249911,48706510</td>\n",
       "      <td>70</td>\n",
       "      <td>3.0</td>\n",
       "      <td>2005-12-16</td>\n",
       "      <td>2005</td>\n",
       "    </tr>\n",
       "    <tr>\n",
       "      <th>...</th>\n",
       "      <td>...</td>\n",
       "      <td>...</td>\n",
       "      <td>...</td>\n",
       "      <td>...</td>\n",
       "      <td>...</td>\n",
       "      <td>...</td>\n",
       "      <td>...</td>\n",
       "      <td>...</td>\n",
       "      <td>...</td>\n",
       "      <td>...</td>\n",
       "    </tr>\n",
       "    <tr>\n",
       "      <th>3737188</th>\n",
       "      <td>fea6042ae3d4b2e873426e75ef4e3908fefdf2e7</td>\n",
       "      <td>http://arxiv.org/pdf/2501.11288</td>\n",
       "      <td>Computer Science</td>\n",
       "      <td>IEEE transactions on consumer electronics</td>\n",
       "      <td>Yanchao Wang,Dawei Zhang,Run Li,Zhonglong Zhen...</td>\n",
       "      <td>2298569900,2275025303,2298564302,2278244261,23...</td>\n",
       "      <td>0</td>\n",
       "      <td>0.0</td>\n",
       "      <td>2025-01-20</td>\n",
       "      <td>2025</td>\n",
       "    </tr>\n",
       "    <tr>\n",
       "      <th>3737189</th>\n",
       "      <td>fed4e1c03728d1747984ccc035e9e52d4f576666</td>\n",
       "      <td>https://www.biorxiv.org/content/biorxiv/early/...</td>\n",
       "      <td>Biology</td>\n",
       "      <td>bioRxiv</td>\n",
       "      <td>Niko Kasalo,Mirjana Domazet-Lošo,Tomislav Doma...</td>\n",
       "      <td>2145558181,1414104312,1397755049</td>\n",
       "      <td>2</td>\n",
       "      <td>0.0</td>\n",
       "      <td>2025-01-16</td>\n",
       "      <td>2025</td>\n",
       "    </tr>\n",
       "    <tr>\n",
       "      <th>3737190</th>\n",
       "      <td>fee975b0352fbf35fdc1926b25a16d8531ebb4e6</td>\n",
       "      <td>https://www.researchsquare.com/article/rs-4129...</td>\n",
       "      <td>Computer Science</td>\n",
       "      <td>Multim. Syst.</td>\n",
       "      <td>Liang Yang,Qi Yang,Jingjie Zeng,Tao Peng,Zhiha...</td>\n",
       "      <td>2143920912,2308550856,2000361118,2068930271,15...</td>\n",
       "      <td>0</td>\n",
       "      <td>0.0</td>\n",
       "      <td>2025-02-06</td>\n",
       "      <td>2025</td>\n",
       "    </tr>\n",
       "    <tr>\n",
       "      <th>3737191</th>\n",
       "      <td>ff8fd5f30461bb788c6a32f37fe0f7821eafebf6</td>\n",
       "      <td>http://arxiv.org/pdf/2501.00799</td>\n",
       "      <td>Computer Science,Mathematics</td>\n",
       "      <td>IEEE Signal Processing Letters</td>\n",
       "      <td>S. Mukhopadhyay,Debasmita Mukherjee</td>\n",
       "      <td>46287665,2338269614</td>\n",
       "      <td>0</td>\n",
       "      <td>0.0</td>\n",
       "      <td>2025-01-01</td>\n",
       "      <td>2025</td>\n",
       "    </tr>\n",
       "    <tr>\n",
       "      <th>3737192</th>\n",
       "      <td>ffd00ce568f98d0febe6aeb407b54f9075ea732b</td>\n",
       "      <td>http://arxiv.org/pdf/2501.04448</td>\n",
       "      <td>Physics</td>\n",
       "      <td>Proceedings of 42nd International Conference o...</td>\n",
       "      <td>Pietro Vischia</td>\n",
       "      <td>2339007853</td>\n",
       "      <td>0</td>\n",
       "      <td>0.0</td>\n",
       "      <td>2025-01-07</td>\n",
       "      <td>2025</td>\n",
       "    </tr>\n",
       "  </tbody>\n",
       "</table>\n",
       "<p>3737193 rows × 10 columns</p>\n",
       "</div>"
      ],
      "text/plain": [
       "                                          paperId  \\\n",
       "0        0001d5fbff6f7c763a78dd5d141292416dcfae59   \n",
       "1        000372290caae5482dcdd7954feb895ccbab921d   \n",
       "2        000376ec6f6ade6261fc12df9eddd25a88c1e9ca   \n",
       "3        0003a5747ee3676be1b6d2c72c13a04e41811274   \n",
       "4        00043e28cffe744909bf69cde70e6dac0bce0a10   \n",
       "...                                           ...   \n",
       "3737188  fea6042ae3d4b2e873426e75ef4e3908fefdf2e7   \n",
       "3737189  fed4e1c03728d1747984ccc035e9e52d4f576666   \n",
       "3737190  fee975b0352fbf35fdc1926b25a16d8531ebb4e6   \n",
       "3737191  ff8fd5f30461bb788c6a32f37fe0f7821eafebf6   \n",
       "3737192  ffd00ce568f98d0febe6aeb407b54f9075ea732b   \n",
       "\n",
       "                                             openAccessPdf  \\\n",
       "0        https://aacrjournals.org/clincancerres/article...   \n",
       "1        http://www.merl.com/publications/docs/TR2005-0...   \n",
       "2        https://www.jstage.jst.go.jp/article/bpb/28/8/...   \n",
       "3        https://onlinelibrary.wiley.com/doi/pdfdirect/...   \n",
       "4         http://www.jbc.org/article/S0021925820589394/pdf   \n",
       "...                                                    ...   \n",
       "3737188                    http://arxiv.org/pdf/2501.11288   \n",
       "3737189  https://www.biorxiv.org/content/biorxiv/early/...   \n",
       "3737190  https://www.researchsquare.com/article/rs-4129...   \n",
       "3737191                    http://arxiv.org/pdf/2501.00799   \n",
       "3737192                    http://arxiv.org/pdf/2501.04448   \n",
       "\n",
       "                        fieldsOfStudy  \\\n",
       "0                    Biology,Medicine   \n",
       "1        Computer Science,Mathematics   \n",
       "2                            Medicine   \n",
       "3                    Biology,Medicine   \n",
       "4                  Chemistry,Medicine   \n",
       "...                               ...   \n",
       "3737188              Computer Science   \n",
       "3737189                       Biology   \n",
       "3737190              Computer Science   \n",
       "3737191  Computer Science,Mathematics   \n",
       "3737192                       Physics   \n",
       "\n",
       "                                                     venue  \\\n",
       "0                                 Clinical Cancer Research   \n",
       "1                      IEEE Transactions on Communications   \n",
       "2                   Biological and Pharmaceutical Bulletin   \n",
       "3                                   Developmental Dynamics   \n",
       "4                          Journal of Biological Chemistry   \n",
       "...                                                    ...   \n",
       "3737188          IEEE transactions on consumer electronics   \n",
       "3737189                                            bioRxiv   \n",
       "3737190                                      Multim. Syst.   \n",
       "3737191                     IEEE Signal Processing Letters   \n",
       "3737192  Proceedings of 42nd International Conference o...   \n",
       "\n",
       "                                                authorName  \\\n",
       "0        T. Ishibe,T. Nakayama,T. Okamoto,T. Aoyama,K. ...   \n",
       "1                                Juntan Zhang,M. Fossorier   \n",
       "2        Bi-qi Zhang,Shen-Jiang Hu,Lihong Qiu,Q. Shan,J...   \n",
       "3        Barden Chan,S. Sinha,Dan Cho,R. Ramchandran,V....   \n",
       "4                        M. Westfall,A. M. Lee,D. Robinson   \n",
       "...                                                    ...   \n",
       "3737188  Yanchao Wang,Dawei Zhang,Run Li,Zhonglong Zhen...   \n",
       "3737189  Niko Kasalo,Mirjana Domazet-Lošo,Tomislav Doma...   \n",
       "3737190  Liang Yang,Qi Yang,Jingjie Zeng,Tao Peng,Zhiha...   \n",
       "3737191                S. Mukhopadhyay,Debasmita Mukherjee   \n",
       "3737192                                     Pietro Vischia   \n",
       "\n",
       "                                                  authorId  citationCount  \\\n",
       "0        14839966,10239302,2000448727,3201672,7147569,2...             88   \n",
       "1                                         3193350,48891339            319   \n",
       "2        11809650,6617669,123635715,11305673,2152146096...             24   \n",
       "3           35690923,2114125286,2113252574,2134773,3658233             53   \n",
       "4                                5025983,49249911,48706510             70   \n",
       "...                                                    ...            ...   \n",
       "3737188  2298569900,2275025303,2298564302,2278244261,23...              0   \n",
       "3737189                   2145558181,1414104312,1397755049              2   \n",
       "3737190  2143920912,2308550856,2000361118,2068930271,15...              0   \n",
       "3737191                                46287665,2338269614              0   \n",
       "3737192                                         2339007853              0   \n",
       "\n",
       "         influentialCitationCount publicationDate  publicationYear  \n",
       "0                             6.0      2005-04-01             2005  \n",
       "1                            26.0      2005-03-07             2005  \n",
       "2                             2.0      2005-08-01             2005  \n",
       "3                             2.0      2005-01-01             2005  \n",
       "4                             3.0      2005-12-16             2005  \n",
       "...                           ...             ...              ...  \n",
       "3737188                       0.0      2025-01-20             2025  \n",
       "3737189                       0.0      2025-01-16             2025  \n",
       "3737190                       0.0      2025-02-06             2025  \n",
       "3737191                       0.0      2025-01-01             2025  \n",
       "3737192                       0.0      2025-01-07             2025  \n",
       "\n",
       "[3737193 rows x 10 columns]"
      ]
     },
     "metadata": {},
     "output_type": "display_data"
    },
    {
     "data": {
      "application/vnd.microsoft.datawrangler.viewer.v0+json": {
       "columns": [
        {
         "name": "index",
         "rawType": "int64",
         "type": "integer"
        },
        {
         "name": "paperId",
         "rawType": "object",
         "type": "string"
        },
        {
         "name": "title",
         "rawType": "object",
         "type": "string"
        },
        {
         "name": "abstract",
         "rawType": "object",
         "type": "string"
        },
        {
         "name": "openAccessPdf",
         "rawType": "object",
         "type": "string"
        }
       ],
       "conversionMethod": "pd.DataFrame",
       "ref": "d4fc3f01-fdd3-4051-89fe-23b49ba4b89d",
       "rows": [
        [
         "0",
         "0001d5fbff6f7c763a78dd5d141292416dcfae59",
         "Disruption of Fibroblast Growth Factor Signal Pathway Inhibits the Growth of Synovial Sarcomas: Potential Application of Signal Inhibitors to Molecular Target Therapy",
         "Purpose: Synovial sarcoma is a soft tissue sarcoma, the growth regulatory mechanisms of which are unknown. We investigated the involvement of fibroblast growth factor (FGF) signals in synovial sarcoma and evaluated the therapeutic effect of inhibiting the FGF signal. Experimental Design: The expression of 22 FGF and 4 FGF receptor (FGFR) genes in 18 primary tumors and five cell lines of synovial sarcoma were analyzed by reverse transcription-PCR. Effects of recombinant FGF2, FGF8, and FGF18 for the activation of mitogen-activated protein kinase (MAPK) and the growth of synovial sarcoma cell lines were analyzed. Growth inhibitory effects of FGFR inhibitors on synovial sarcoma cell lines were investigated in vitro and in vivo. Results: Synovial sarcoma cell lines expressed multiple FGF genes especially those expressed in neural tissues, among which FGF8 showed growth stimulatory effects in all synovial sarcoma cell lines. FGF signals in synovial sarcoma induced the phosphorylation of extracellular signal–regulated kinase (ERK1/2) and p38MAPK but not c-Jun NH2-terminal kinase. Disruption of the FGF signaling pathway in synovial sarcoma by specific inhibitors of FGFR caused cell cycle arrest leading to significant growth inhibition both in vitro and in vivo. Growth inhibition by the FGFR inhibitor was associated with a down-regulation of phosphorylated ERK1/2 but not p38MAPK, and an ERK kinase inhibitor also showed growth inhibitory effects for synovial sarcoma, indicating that the growth stimulatory effect of FGF was transmitted through the ERK1/2. Conclusions: FGF signals have an important role in the growth of synovial sarcoma, and inhibitory molecules will be of potential use for molecular target therapy in synovial sarcoma.",
         "https://aacrjournals.org/clincancerres/article-pdf/11/7/2702/1962059/2702-2712.pdf"
        ],
        [
         "1",
         "000372290caae5482dcdd7954feb895ccbab921d",
         "Shuffled iterative decoding",
         "Shuffled versions of iterative decoding of low-density parity-check codes and turbo codes are presented. The proposed schemes have about the same computational complexity as the standard versions, and converge faster. Simulations show that the new schedules offer better performance/complexity tradeoffs, especially when the maximum number of iterations has to remain small.",
         "http://www.merl.com/publications/docs/TR2005-063.pdf"
        ],
        [
         "2",
         "000376ec6f6ade6261fc12df9eddd25a88c1e9ca",
         "Diphasic effects of Astragalus membranaceus BUNGE (Leguminosae) on vascular tone in rat thoracic aorta.",
         "This study was designed to investigate the effects of the aqueous ethanol extract of Astragalus membranaceus BUNGE (Leguminosae) on rat thoracic aorta. Isometric tension was recorded in response to drugs in organ bath. In endothelium-intact aortic rings, A. membranaceus extract induced a significant dose-dependent relaxation of the rings precontracted by phenylephrine, which could be inhibited by preincubation with L-N(omega)-nitro-arginine methyl ester or methylthioninium chloride. In endothelium-denuded ones, the extract could dose-dependently relax the rings contracted by phenylephrine, not by KCl; and it could also attenuate contractile response to phenylephrine, not to caffeine or phorbol-12,13-diacetate in Ca(2+)-free medium; but it failed to affect the CaCl(2)-induced enhancement of contractile response to phenylephrine in Ca(2+)-free medium. These results indicate that nitric oxide signaling and Ca(2+)-handling pathway are involved in the A. membranaceus extract-induced vasodilatation.",
         "https://www.jstage.jst.go.jp/article/bpb/28/8/28_8_1450/_pdf"
        ],
        [
         "3",
         "0003a5747ee3676be1b6d2c72c13a04e41811274",
         "Critical roles of CD146 in zebrafish vascular development",
         "In this report, we use zebrafish as a model system to understand the importance of CD146 in vascular development. Endothelial‐specific expression of CD146 was verified by whole‐mount in situ hybridization. Suppression of CD146 protein expression by antisense morpholino oligonucleotides (MO) resulted in poorly developed intersomitic vessels (ISVs). In CD146 morphants, we observed a lack of blood flow through the ISV region, despite that fluorescence microangiography showed that the ISVs were present. This finding suggests that the lumens of the developing ISVs may be too narrow for proper circulation. Additionally, remodeling of the caudal vein plexus into functional vascular tubes appeared to be affected. Suppression of CD146 protein expression resulted in a circulation shunt that caused the circulation to by‐pass part of the caudal artery/vein system. The same vascular defects were recapitulated by using a second morpholino oligonucleotide. This morphant expressed a truncated CD146 protein with amino acids V32 to T57 at the N terminus deleted in an in‐frame manner. This region, therefore, is likely to contain elements critical for CD146 function. This study provides the first in vivo functional assessment of CD146 in embryonic development by showing that knockdown of CD146 protein expression severely hinders vascular development in zebrafish. Developmental Dynamics 232:232–244, 2005. © 2004 Wiley‐Liss, Inc.",
         "https://onlinelibrary.wiley.com/doi/pdfdirect/10.1002/dvdy.20220"
        ],
        [
         "4",
         "00043e28cffe744909bf69cde70e6dac0bce0a10",
         "Differential Contribution of Troponin I Phosphorylation Sites to the Endothelin-modulated Contractile Response*",
         "Cardiac troponin I is a phosphorylation target for endothelin-activated protein kinase C. Earlier work in cardiac myocytes expressing nonphosphorylatable slow skeletal troponin I provided evidence that protein kinase C-mediated cardiac troponin I phosphorylation accelerates relaxation. However, replacement with the slow skeletal isoform also alters the myofilament pH response and the Ca2+ transient, which could influence endothelin-mediated relaxation. Here, differences in the Ca2+ transient could not explain the divergent relaxation response to endothelin in myocytes expressing cardiac versus slow skeletal troponin I nor could activation of Na+/H+ exchange. Three separate clusters within cardiac troponin I are phosphorylated by protein kinase C, and we set out to determine the contribution of the Thr144 and Ser23/Ser24 clusters to the endothelin-mediated contractile response. Myocyte replacement with a cardiac troponin I containing a Thr144 substituted with the Pro residue found in slow skeletal troponin I resulted in prolonged relaxation in response to acute endothelin compared with control myocytes. Ser23/Ser24 also is a target for protein kinase C phosphorylation of purified cardiac troponin I, and although this cluster was not acutely phosphorylated in intact myocytes, significant phosphorylation developed within 1 h after adding endothelin. Replacement of Ser23/Ser24 with Ala indicated that this cluster contributes significantly to relaxation during more prolonged endothelin stimulation. Overall, results with these mutants provide evidence that Thr144 plays an important role in the acute acceleration of relaxation, whereas Ser23/Ser24 contributes to relaxation during more prolonged activation of protein kinase C by endothelin.",
         "http://www.jbc.org/article/S0021925820589394/pdf"
        ],
        [
         "5",
         "0004b93367db8768d29c7e21bf410d55a30f5205",
         "Programming: factors that influence success",
         "This paper documents a study, carried out in the academic year 2003-2004, on fifteen factors that may influence performance on a first year object-oriented programming module. The factors included prior academic experience, prior computer experience, self-perception of programming performance and comfort level on the module and specific cognitive skills. The study found that a student's perception of their understanding of the module had the strongest correlation with programming performance, r=0.76, p‹0.01. In addition, Leaving Certificate (LC) mathematics and science scores were shown to have a strong correlation with performance. A regression module, based upon a student's perception of their understanding of the module, gender, LC mathematics score and comfort level was able to account for 79% of the variance in programming performance results.",
         "http://dl.acm.org/ft_gateway.cfm?id=1047480&type=pdf"
        ],
        [
         "6",
         "0004e56a361394b92b9ac1d15a524ef7ecfe2767",
         "Intracellular and Surface Distribution of Monocyte Tissue Factor: Application to Intersubject Variability",
         "Objective—The high and low responder phenomenon describes individual differences in lipopolysaccharide (LPS)-induced monocyte tissue factor (TF) activity. We characterized patterns of intracellular accumulation, externalization, and shedding of TF in response to LPS in mononuclear cells (MNCs) from high responders (HRs) and low responders (LRs). Methods and Results—After 2 hours of LPS stimulation of whole blood, flow cytometry analyses revealed a larger population of TF-positive monocytes in HRs (32.0±3.5%) versus LRs (11.2±1.2%; P≤0.05), along with a stronger mean fluorescence intensity of TF signal in HRs (7.1±0.5 arbitrary units [AU]) compared with LRs (5.4±0.4 AU; P≤0.05). The LPS-treated blood of the HR group contained 2-fold more TF-positive microparticles than LRs. In-cell Western assay demonstrated higher intracellular accumulation of TF in mononuclear cells (MNCs) from LRs because LPS induced a 3.7-fold increase of total TF levels in LRs versus a 1.5-fold increase in HRs. In contrast, in response to LPS stimulation, MNCs from HRs exhibited a 4-fold induction of surface TF, whereas MNCs from LRs only had a minor increase in surface TF levels. Conclusions—The higher availability of surface TF antigen on MNCs from HRs and TF-containing microparticles might make these individuals more susceptible to hypercoagulation.",
         "https://www.ahajournals.org/doi/pdf/10.1161/01.ATV.0000168413.29874.d7"
        ],
        [
         "7",
         "000646db4a4a269f9261f5b285ba1d07ef006809",
         "Potential Clindamycin Resistance in Clindamycin-Susceptible, Erythromycin-Resistant Staphylococcus aureus: Report of a Clinical Failure",
         "ABSTRACT The erm gene product confers clindamycin resistance on Staphylococcus aureus. We report a clindamycin clinical failure where resistance developed on therapy in a D-test-positive strain. D tests of 91 clindamycin-susceptible, erythromycin-resistant S. aureus isolates showed that 68% of methicillin-susceptible and 12.3% of methicillin-resistant S. aureus strains were D-test positive.",
         "https://europepmc.org/articles/pmc549252?pdf=render"
        ],
        [
         "8",
         "0008826f79633b9d5738551ac67593d6456acd43",
         "Symmetric and asymmetric Slepian-Wolf codes with systematic and nonsystematic linear codes",
         "We propose a constructive approach for distributed source coding of correlated binary sources using linear channel codes that can achieve any point of the Slepian-Wolf achievable rate region. Our approach is very intuitive and can be used with systematic and nonsystematic linear codes. Moreover, the proposed coding strategy can easily be extended to the case of more than two sources.",
         "http://www.commsp.ee.ic.ac.uk/~ng1/pdf/gehrigD_CL_Jan05.pdf"
        ],
        [
         "9",
         "000a2234245d642c786a7355a15623444c33c1dc",
         "Selective Defect in Antigen-Induced TCR Internalization at the Immune Synapse of CD8 T Cells Bearing the ZAP-70(Y292F) Mutation1",
         "Cbl proteins have been implicated in ligand-induced TCR/CD3 down-modulation, but underlying mechanisms are unclear. We analyzed the effect of mutation of a cbl-binding site on ZAP-70 (ZAP-Y292F) on dynamics, internalization, and degradation of the TCR/CD3 complex in response to distinct stimuli. Naive CD8 T cells expressing the P14 transgenic TCR from ZAP-Y292F mice were selectively affected in TCR/CD3 down-modulation in response to antigenic stimulation, whereas neither anti-CD3 Ab-, and PMA-induced TCR down-modulation, nor constitutive receptor endocytosis/cycling were impaired. We further established that the defect in TCR/CD3 down-modulation in response to Ag was paralleled by an impaired TCR/CD3 internalization and CD3ζ degradation. Analysis of T/APC conjugates revealed that delayed redistribution of TCR at the T/APC contact zone was paralleled by a delay in TCR internalization in the synaptic zone in ZAP-Y292F compared with ZAP-wild-type T cells. Cbl recruitment to the synapse was also retarded in ZAP-Y292F T cells, although F-actin and LFA-1 redistribution was similar for both cell types. This study identifies a step involving ZAP-70/cbl interaction that is critical for rapid internalization of the TCR/CD3 complex at the CD8 T cell/APC synapse.",
         "https://www.jimmunol.org/content/jimmunol/175/5/3140.full.pdf"
        ],
        [
         "10",
         "000bc721cefe3f2ba2425e8b95b042dc1e9778f9",
         "Applying Machine Learning Techniques to Improve Linux Process Scheduling",
         "In this work we use Machine Learning (ML) techniques to learn the CPU time-slice utilization behavior of known programs in a Linux system. Learning is done by an analysis of certain static and dynamic attributes of the processes while they are being run. Our objective was to discover the most important static and dynamic attributes of the processes that can help best in prediction of CPU burst times which minimize the process TaT (Turn-around-Time). In our experimentation we modify the Linux Kernel scheduler (version 2.4.20-8) to allow scheduling with customized time slices. The \"Waikato Environment for Knowledge Analysis\" (Weka), an open source machine-learning tool is used to find the most suitable ML method to characterize our programs. We experimentally find that the C'4.5 Decision Tree algorithm most effectively solved the problem. We find that predictive scheduling could reduce TaT in the range of 1.4% to 5.8%. This was due to a reduction in the number of context switches needed to complete the process execution. We find our result interesting in the context that generally operating systems presently never make use of a program's previous execution history in their scheduling behavior.",
         "http://www.cs.ucr.edu/%7Ekishore/papers/tencon.pdf"
        ],
        [
         "11",
         "000d7634ea82cea4ea3d1aac5e632f88e6736f05",
         "Neuronal Leucine-Rich Repeat Protein 4 Functions in Hippocampus-Dependent Long-Lasting Memory",
         "ABSTRACT Neuronal leucine-rich repeat proteins (NLRRs) are type I transmembrane proteins and expressed in neuronal tissues, but their function remains unknown. Here, we describe the identification and characterization of a new member of the NLRR family, NLRR4, and its potential role in long-lasting memory. We generated NLRR4-deficient (NLRR4−/−) mice and found that they showed impaired memory retention. In hippocampus-dependent learning tasks, NLRR4−/− mice were able to learn and maintain the memories for one day but unable to retain the memories for four days after learning. In contrast, in a hippocampus-independent task, NLRR4−/− mice were able to retain the memory normally for at least seven days. These results suggest that NLRR4 plays a key role in hippocampus-dependent long-lasting memory.",
         "https://europepmc.org/articles/pmc1087730?pdf=render"
        ],
        [
         "12",
         "000fd65de92d766ada2dab424f7f66e526e2f063",
         "Semantic video analysis for adaptive content delivery and automatic description",
         "We present an encoding framework which exploits semantics for video content delivery. The video content is organized based on the idea of main content message. In the work reported in this paper, the main content message is extracted from the video data through semantic video analysis, an application-dependent process that separates relevant information from non relevant information. We use here semantic analysis and the corresponding content annotation under a new perspective: the results of the analysis are exploited for object-based encoders, such as MPEG-4, as well as for frame-based encoders, such as MPEG-1. Moreover, the use of MPEG-7 content descriptors in conjunction with the video is used for improving content visualization for narrow channels and devices with limited capabilities. Finally, we analyze and evaluate the impact of semantic video analysis in video encoding and show that the use of semantic video analysis prior to encoding sensibly reduces the bandwidth requirements compared to traditional encoders not only for an object-based encoder but also for a frame-based encoder.",
         "https://infoscience.epfl.ch/record/87259/files/Cavallaro2005_1275.pdf"
        ],
        [
         "13",
         "0010aa2b264826b06d3839c2f139da8286930131",
         "Trends in Drug Resistance, Serotypes, and Molecular Types of Streptococcus pneumoniae Colonizing Preschool-Age Children Attending Day Care Centers in Lisbon, Portugal: a Summary of 4 Years of Annual Surveillance",
         "ABSTRACT Of the nasopharyngeal cultures recovered from 942 day care center (DCC) attendees in Lisbon, Portugal, 591 (62%) yielded Streptococcus pneumoniae during a surveillance performed in February and March of 1999. Forty percent of the isolates were resistant to one or more antimicrobial agents. In particular, 2% were penicillin resistant and 20% had intermediate penicillin resistance. Multidrug resistance to macrolides, lincosamides, and tetracycline was the most frequent antibiotype (17% of all isolates). Serotyping and molecular typing by pulsed-field gel electrophoresis were performed for 202 out of 237 drug-resistant pneumococci (DRPn). The most frequent serotypes were 6B (26%), 14 (22%), 19F (16%), 23F (10%), and nontypeable (12%). The majority (67%) of the DRPn strains were representatives of nine international clones included in the Pneumococcal Molecular Epidemiology Network; eight of them had been detected in previous studies. Fourteen novel clones were identified, corresponding to 26% of the DRPn strains. The remaining 7% of the strains were local clones detected in our previous studies. Comparison with studies conducted since 1996 in Portuguese DCCs identified several trends: (i) the rate of DRPn frequency has fluctuated between 40 and 50%; (ii) the serotypes most frequently recovered have remained the same; (iii) nontypeable strains appear to be increasing in frequency; and (iv) a clone of serotype 33F emerged in 1999. Together, our observations highlight that the nasopharynxes of children in DCCs are a melting pot of successful DRPn clones that are important to study and monitor if we aim to gain a better understanding on the epidemiology of this pathogen.",
         "https://europepmc.org/articles/pmc1081291?pdf=render"
        ],
        [
         "14",
         "00111aa397aff132da8dcb2e4e9276d68d1cd4a6",
         "Laboratory Exposures to Brucellae and Implications for Bioterrorism",
         "Laboratory exposures to brucellae indicate unfamiliarity with organism.",
         "https://wwwnc.cdc.gov/eid/article/11/8/pdfs/04-1197.pdf"
        ],
        [
         "15",
         "00127bef3dbe9388b9ddf936fc4d242c208dc606",
         "Safe motion planning in dynamic environments",
         "This paper addresses the problem of motion planning (MP) in dynamic environments. It is first argued that dynamic environments impose a real-time constraint upon MP: it has a limited time only to compute a motion, the time available being a function of the dynamicity of the environment. Now, given the intrinsic complexity of MP, computing a complete motion to the goal within the time available is impossible to achieve in most real situations. Partial motion planning (PMP) is the answer to this problem proposed in this paper. PMP is a motion planning scheme with an anytime flavor: when the time available is over, PMP returns the best partial motion to the goal computed so far. Like reactive navigation scheme, PMP faces a safety issue: what guarantee is there that the system will never end up in a critical situation yielding an inevitable collision? The answer proposed in this paper to this safety issue relies upon the concept of inevitable collision states (ICS). ICS takes into account the dynamics of both the system and the moving obstacles. By computing ICS-free partial motion, the system safety can be guaranteed. Application of PMP to the case of a car-like system in a dynamic environment is presented.",
         "https://hal.inria.fr/inria-00182046/file/2005-petti-fraichard-iros.pdf"
        ],
        [
         "16",
         "0012aecca19e4d3e41741599b1dbd00fb46d0c22",
         "Glutathione S-transferase T1 polymorphisms are associated with outcome in colorectal cancer.",
         "Colorectal cancer (CRC) remains a significant cause of mortality accounting for approximately 10% of all deaths from malignancy in the western world. Polymorphism in the glutathione S-transferase GSTT1 gene has been associated with CRC risk in some but not all studies. In this study, we examined associations between GSTT1 genotypes and CRC risk, and prognosis in 361 cases and 881 unrelated controls. GSTT1 null was associated with a small but significant increase in risk (P = 0.0006, odds ratio (OR) = 1.65, 95% confidence interval (CI) = 1.22-2.24). GSTT1 null was also associated with a significantly younger age at diagnosis (mean 65.2 years) compared with GSTT1 A (mean 67.6 years, P = 0.031). There were no significant associations between GSTT1 genotypes and clinical factors (e.g. Dukes stage, differentiation and tumour node metastasis classification) in the total case group. However, following stratification by age (<70 versus > or =70 years at diagnosis), in the patients diagnosed <70 years of age, GSTT1 null was more common in Dukes grade A/B tumours (P = 0.046), stage T1/T2 tumours (P = 0.053) and those with a pushing margin (P = 0.066). We also identified associations between GSTT1 null and increased prevalence of host lymphocyte response, particularly in the younger patients (P = 0.036). Furthermore, GSTT1 null was associated with improved survival in younger patients (P = 0.017, hazards ratio (HR) = 0.52, 95% CI = 0.31-0.89) but poorer survival in older patients (P = 0.017, HR = 1.89, 95% CI = 1.12-3.20). We proposed a model based on the dual functionality of GSTT1 to explain these contrasting results. We suggest that the null genotype is associated with improved immune response in younger patients, but poorer detoxification in older patients. These findings may also provide an explanation for the contrasting finding of other studies on the role of this gene in CRC.",
         "https://academic.oup.com/carcin/article-pdf/26/12/2157/7088641/bgi195.pdf"
        ],
        [
         "17",
         "001356ecc6393aeb0997ee1bc5b47b423587fdff",
         "The N‐terminus of B96Bom, a Bombyx mori G‐protein‐coupled receptor, is N‐myristoylated and translocated across the membrane",
         "In eukaryotic cellular proteins, protein N‐myristoylation has been recognized as a protein modification that occurs mainly on cytoplasmic or nucleoplasmic proteins. In this study, to search for a eukaryotic N‐myristoylated transmembrane protein, the susceptibility of the N‐terminus of several G‐protein‐coupled receptors (GPCRs) to protein N‐myristoylation was evaluated by in vitro and in vivo metabolic labeling. It was found that the N‐terminal 10 residues of B96Bom, a Bombyx mori GPCR, efficiently directed the protein N‐myristoylation. Analysis of a tumor necrosis factor (TNF) fusion protein with the N‐terminal 90 residues of B96Bom at its N‐terminus revealed that (a) transmembrane domain 1 of B96Bom functioned as a type I signal anchor sequence, (b) the N‐myristoylated N‐terminal domain (58 residues) was translocated across the membrane, and (c) two N‐glycosylation motifs located in this domain were efficiently N‐glycosylated. In addition, when Ala4 in the N‐myristoylation motif of B96Bom90‐TNF, Met‐Gly‐Gln‐Ala‐Ala‐Thr(1–6), was replaced with Asn to generate a new N‐glycosylation motif, Asn‐Ala‐Thr(4–6), efficient N‐glycosylation was observed on this newly introduced N‐glycosylation site in the expressed protein. These results indicate that the N‐myristoylated N‐terminus of B96Bom is translocated across the membrane and exposed to the extracellular surface. To our knowledge, this is the first report showing that a eukaryotic transmembrane protein can be N‐myristoylated and that the N‐myristoylated N‐terminus of the protein can be translocated across the membrane.",
         "https://onlinelibrary.wiley.com/doi/pdfdirect/10.1111/j.1742-4658.2004.04487.x"
        ],
        [
         "18",
         "00147c55961b99b39b3c6ede1d0e231929c4bf10",
         "Uptake of denatured collagen into hepatic stellate cells: evidence for the involvement of urokinase plasminogen activator receptor-associated protein/Endo180.",
         "Tissue remodelling is dependent on the integration of signals that control turnover of ECM (extracellular matrix). Breakdown and endocytosis of collagen, a major component of the ECM, is central to this process. Whereas controlled secretion of matrix-degrading enzymes (such as matrix metalloproteinases) has long been known to mediate ECM breakdown, it is becoming clear that uPARAP/Endo180 (where uPARAP stands for urokinase plasminogen activator receptor-associated protein) serves as a receptor that mediates endocytosis of collagen by several types of cells. In the liver, the stellate cells play a major role in turnover of ECM including collagens. These cells synthesize various collagens and also produce matrix metalloproteinases. In the present study, we investigated the capacity of rat hepatic stellate cells to endocytose and degrade 125I-labelled heat-denatured collagen I. It was found that the collagen is efficiently taken up and degraded by these cells. Degradation was inhibited by inhibitors of lysosomal proteases (leupeptin and E-64d) and the vacuolar proton pump (concanamycin A), indicating that it takes place in lysosomes. Furthermore, endocytosed FITC-labelled collagen was shown to reach late endocytic compartments in which it colocalized with LysoTracker (a marker of late endocytic compartments). Competition experiments showed that uPA and unlabelled collagen are capable of inhibiting binding and uptake of [125I]collagen in a dose-dependent manner. Moreover, Western-blot analysis of cell lysate (using a polyclonal rabbit human-Endo180 antiserum) revealed a single band at 180 kDa. In addition, the antiserum was capable of reducing [125I]collagen binding to the cell surface. Finally, using two primers designed from the human uPARAP/Endo180 mRNA sequence, the expression of uPARAP/Endo180 mRNA was detected by reverse transcriptase-PCR. These results together suggest that uPARAP/Endo180 mediates endocytosis of collagen in rat liver stellate cells.",
         "https://europepmc.org/articles/pmc1134930?pdf=render"
        ],
        [
         "19",
         "0016746ad49041402c38da533049ebe0fe9539d1",
         "ISEcp1B-Mediated Transposition of blaCTX-M in Escherichia coli",
         "ABSTRACT Several expanded-spectrum β-lactamase blaCTX-M genes are associated with ISEcp1-like elements in Enterobacteriaceae. We found that ISEcp1B was able to mobilize the adjacent blaCTX-M-19 gene by a transpositional mechanism in Escherichia coli by recognizing a variety of DNA sequences as right inverted repeats.",
         "https://europepmc.org/articles/pmc538921?pdf=render"
        ],
        [
         "20",
         "0018ece872bb78b06eb26ea35d5ed27f53702ce6",
         "Protein function prediction using the Protein Link EXplorer (PLEX)",
         "UNLABELLED\nWe introduce the Protein Link EXplorer (PLEX), a web-based environment that allows the construction of a phylogenetic profile for any given amino acid sequence, and its comparison with profiles of approximately 350,000 predicted genes from 89 genomes, as a means of interactively identifying functionally linked genes and predicting protein function. PLEX can be searched iteratively and also enables searches for chromosomal gene neighbors and Rosetta Stone linkages. PLEX search results are accompanied by quantitative estimates of linkage confidence, enabling users to take advantage of coinheritance, operon and gene fusion-based methods for inferring gene function and reconstructing cellular systems and pathways.\n\n\nAVAILABILITY\nhttp://bioinformatics.icmb.utexas.edu/plex",
         "https://academic.oup.com/bioinformatics/article-pdf/21/10/2558/48972005/bioinformatics_21_10_2558.pdf"
        ],
        [
         "21",
         "001a3ef673ee3e7703c7db597386a2162a2dc402",
         "How and When Selection Experiments Might Actually be Useful1",
         "Abstract Laboratory natural selection and artificial selection are vital tools for addressing specific questions about evolutionary patterns of variation. Laboratory natural selection can illuminate whether a putative selective agent is capable of generating long-term, sustained changes in individual traits and suites of traits. Artificial selection is the essential tool for understanding the general evolvability of traits and the extent to which genetic correlations constrain evolution. We review the contexts in which each type of experiment seems capable of offering key insights into important evolutionary issues. We also discuss theoretical and methodological considerations that play critical roles in designing selection experiments that are relevant to evolutionary patterns of trait variation. In particular, we focus on the critical role of selection intensity and the consequences of experiments with different intensities. While selection experiments are not practical in many cases, sophisticated selection experiments—designed with careful consideration of the theory of selection—should be taken beyond model organisms and used in well-chosen natural systems to understand natural patterns of variation.",
         "https://academic.oup.com/icb/article-pdf/45/3/391/1674343/i1540-7063-045-03-0391.pdf"
        ],
        [
         "22",
         "001b635f95e9ed2b69830e84a0be4d7748033106",
         "Phylogenetic relationships of Irkut and West Caucasian bat viruses within the Lyssavirus genus and suggested quantitative criteria based on the N gene sequence for lyssavirus genotype definition.",
         "None",
         "https://zenodo.org/record/1259441/files/article.pdf"
        ],
        [
         "23",
         "001c244e51484df18db5d96722887ea4a0063e0f",
         "Neuronal Signals in the Monkey Basolateral Amygdala during Reward Schedules",
         "The amygdala is critical for connecting emotional reactions with environmental events. We recorded neurons from the basolateral complex of two monkeys while they performed visually cued schedules of sequential color discrimination trials, with both valid and random cues. When the cues were valid, the visual cue, which was present throughout each trial, indicated how many trials remained to be successfully completed before a reward. Seventy-six percent of recorded neurons showed response selectivity, with the selectivity depending on some aspects of the current schedule. After a reward, when the monkeys knew that the upcoming cue would be valid, 88 of 246 (36%) neurons responded between schedules, seemingly anticipating the receiving information about the upcoming schedule length. When the cue appeared, 102 of 246 (41%) neurons became selective, at this point encoding information about whether the current trial was the only trial required or how many more trials are needed to obtain a reward. These cue-related responses had a median latency of 120 ms (just between the latencies in inferior temporal visual area TE and perirhinal cortex). When the monkey was releasing a touch bar to complete the trial correctly, 71 of 246 (29%) neurons responded, with responses in the rewarded trials being similar no matter which schedule was ending, thus being sensitive to the reward contingency. Finally, 39 of 246 (16%) neurons responded around the reward. We suggest that basolateral amygdala, by anticipating and then delineating the schedule and representing reward contingency, provide contextual information that is important for adjusting motivational level as a function of immediate behavior goals.",
         "https://www.jneurosci.org/content/jneuro/25/48/11071.full.pdf"
        ],
        [
         "24",
         "001c41c640543a02eb1cf2aa978093d80f719620",
         "The role of microRNA genes in papillary thyroid carcinoma.",
         "Apart from alterations in the RET/PTC-RAS-BRAF pathway, comparatively little is known about the genetics of papillary thyroid carcinoma (PTC). We show that numerous microRNAs (miRNAs) are transcriptionally up-regulated in PTC tumors compared with unaffected thyroid tissue. A set of five miRNAs, including the three most up-regulated ones (miR-221, -222, and -146), distinguished unequivocally between PTC and normal thyroid. Additionally, miR-221 was up-regulated in unaffected thyroid tissue in several PTC patients, presumably an early event in carcinogenesis. Tumors in which the up-regulation (11- to 19-fold) of miR-221, -222, and -146 was strongest showed dramatic loss of KIT transcript and Kit protein. In 5 of 10 such cases, this down expression was associated with germline single-nucleotide changes in the two recognition sequences in KIT for these miRNAs. We conclude that up-regulation of several miRs and regulation of KIT are involved in PTC pathogenesis, and that sequence changes in genes targeted by miRNAs can contribute to their regulation.",
         "https://europepmc.org/articles/pmc1323209?pdf=render"
        ],
        [
         "25",
         "001ce484190e733e0d1dee181f9ee37fd0b15581",
         "Lethality of chlorine, chlorine dioxide, and a commercial fruit and vegetable sanitizer to vegetative cells and spores of Bacillus cereus and spores of Bacillus thuringiensis",
         "None",
         "https://academic.oup.com/jimb/article-pdf/32/7/301/34739283/jimb0301.pdf"
        ],
        [
         "26",
         "001d36fbb5d1be8a5cb40d2df36bc05179f15ff4",
         "Recent advances in understanding the cell death pathways activated by anticancer therapy",
         "Over the past two decades, the role of apoptosis in the cytotoxicity of anticancer drugs has become clear. Apoptosis may occur via a death receptor‐dependent (extrinsic) or independent (intrinsic or mitochondrial) pathway. Mitochondria play a central role in cell death in response to DNA damage, and mediate the interaction(s) of various cytoplasmic organelles, including the endoplasmic reticulum, Golgi apparatus, and lysosomes. The mitochondrial pathway of cell death is mediated by Bcl‐2 family proteins, a group of antiapoptotic and proapoptotic proteins that regulate the passage of small molecules, such as cytochrome c, Smac/Diablo, and apoptosis‐inducing factor, which activates caspase cascades, through the mitochondrial transition pore. In addition, apoptosis can induce autophagic cell death via crosstalk between the two pathways upon treatment with anticancer drugs. The current review focused on recent advances surrounding the mechanism(s) of cell death induced by anticancer agents and discussed potential molecular targets for enhancing the chemotherapeutic effect(s) of anticancer agents. Cancer 2005. © 2005 American Cancer Society.",
         "https://onlinelibrary.wiley.com/doi/pdfdirect/10.1002/cncr.20947"
        ],
        [
         "27",
         "001e671482c0a1336ad28cbfdfd76af665227433",
         "Biochemical and spectroscopic characterization of the bacterial phytochrome of Pseudomonas aeruginosa",
         "Phytochromes are photochromic biliproteins found in plants as well as in some cyanotrophic, photoautotrophic and heterotrophic bacteria. In many bacteria, their function is largely unknown. Here we describe the biochemical and spectroscopic characterization of recombinant bacterial phytochrome from the opportunistic pathogen Pseudomonas aeruginosa (PaBphP). The recombinant protein displays all the characteristic features of a bonafide phytochrome. In contrast with cyanobacteria and plants, the chromophore of this bacterial phytochrome is biliverdin IXα, which is produced by the heme oxygenase BphO in P. aeruginosa. This chromophore was shown to be covalently attached via its A‐ring endo‐vinyl group to a cysteine residue outside the defined bilin lyase domain of plant and cyanobacterial phytochromes. Site‐directed mutagenesis identified Cys12 and His247 as being important for chromophore binding and photoreversibility, respectively. PaBphP is synthesized in the dark in the red‐light‐absorbing Pr form and immediately converted into a far‐red‐light‐absorbing Pfr‐enriched form. It shows the characteristic red/far‐red‐light‐induced photoreversibility of phytochromes. A chromophore analog that lacks the C15/16 double bond was used to show that this photoreversibility is due to a 15Z/15E isomerization of the biliverdin chromophore. Autophosphorylation of PaBphP was demonstrated, confirming its role as a sensor kinase of a bacterial two‐component signaling system.",
         "https://onlinelibrary.wiley.com/doi/pdfdirect/10.1111/j.1742-4658.2005.04623.x"
        ],
        [
         "28",
         "001fbed2006728779468663f65cccd51285c9f7d",
         "Mycobacteria use their surface-exposed glycolipids to infect human macrophages through a receptor-dependent process Published, JLR Papers in Press, December 1, 2004. DOI 10.1194/jlr.M400308-JLR200",
         "Two subfamilies of the polar glycopeptidolipids (GPLs) located on the surface of Mycobacterium smegmatis, along with unknown phospholipids, were recently shown to participate in the nonopsonic phagocytosis of mycobacteria by human macrophages (Villeneuve, C., G. Etienne, V. Abadie, H. Montrozier, C. Bordier, F. Laval, M. Daffe, I. Maridonneau-Parini, and C. Astarie-Dequeker. 2003. Surface-exposed glycopeptidolipids of Mycobacterium smegmatis specifically inhibit the phagocytosis of mycobacteria by human macrophages. Identification of a novel family of glycopeptidolipids. J. Biol. Chem. 278: 51291–51300). As demonstrated herein, a phospholipid mixture that derived from the methanol-insoluble fraction inhibited the phagocytosis of M. smegmatis. Inhibition was essentially attributable to phosphatidylinositol mannosides (PIMs), namely PIM2 and PIM6, because the purified phosphatidylethanolamine, phosphatidylglycerol, and phosphatidylinositol were inactive. This was further confirmed using purified PIM2 and PIM6 from M. bovis BCG that decreased by half the internalization of M. smegmatis. Both compounds also inhibited the uptake of M. tuberculosis and M. avium but had no effect on the internalization of zymosan used as a control particle of the phagocytic process. When coated on latex beads, PIM2 and polar GPL (GPL III) favored the particle entry through complement receptor 3. GPL III, but not PIM2, also directed particle entry through the mannose receptor. Therefore, surface-exposed mycobacterial PIM and polar GPL participate in the receptor-dependent internalization of mycobacteria in human macrophages.",
         "http://www.jlr.org/article/S0022227520340323/pdf"
        ],
        [
         "29",
         "0020220e317cd7c4ef87a8296677701d4e6a7c42",
         "Insights from the developing world: thrifty genotypes and thrifty phenotypes",
         "Few researchers would dispute that the pandemic of obesity is caused by a profound mismatch between humanity's present environmental circumstances and those that have moulded evolutionary selection. This concept was first articulated when gestational diabetes was described as being the result of a ‘thrifty genotype rendered detrimental by progress’. More recently, this hypothesis has been extended to the concept of a ‘thrifty phenotype’ to describe the metabolic adaptations adopted as a survival strategy by a malnourished fetus; changes that may also be inappropriate to deal with a later life of affluence. Both the thrifty genotype and the thrifty phenotype hypotheses would predict that populations in some areas of the developing world would be at greater risk of obesity and its co-morbidities; a proposition to be explored in the present paper. To date thrifty genes remain little more than a nebulous concept propagated by the intuitive logic that man has been selected to survive episodic famine and seasonal hungry periods. Under such conditions those individuals who could lay down extra energy stores and use them most efficiently would have a survival advantage. The search for candidate thrifty genes needs to cover every aspect of human energy balance from food-seeking behaviour to the coupling efficiency of oxidative phosphorylation. The present paper will describe examples of attempts to find thrifty genes in three selected candidate areas: maternally-transmitted mitochondrial genes; the uncoupling proteins; apoE4, whose geographical distribution has been linked to a possible thrifty role in lipoprotein and cholesterol metabolism.",
         "https://www.cambridge.org/core/services/aop-cambridge-core/content/view/D4334A1A0F9096B08FAE923BAB0CA36D/S0029665105000194a.pdf/div-class-title-insights-from-the-developing-world-thrifty-genotypes-and-thrifty-phenotypes-div.pdf"
        ],
        [
         "30",
         "00206ca6a32791adcca5effdfed6eecd035075f4",
         "Sparse basis selection: new results and application to adaptive prediction of video source traffic",
         "Real-time prediction of video source traffic is an important step in many network management tasks such as dynamic bandwidth allocation and end-to-end quality-of-service (QoS) control strategies. In this paper, an adaptive prediction model for MPEG-coded traffic is developed. A novel technology is used, first developed in the signal processing community, called sparse basis selection. It is based on selecting a small subset of inputs (basis) from among a large dictionary of possible inputs. A new sparse basis selection algorithm is developed that is based on efficiently updating the input selection adaptively. When a new measurement is received, the proposed algorithm updates the selected inputs in a recursive manner. Thus, adaptability is not only in the weight adjustment, but also in the dynamic update of the inputs. The algorithm is applied to the problem of single-step-ahead prediction of MPEG-coded video source traffic, and the developed method achieves improved results, as compared to the published results in the literature. The present analysis indicates that the adaptive feature of the developed algorithm seems to add significant overall value.",
         "http://www.vision.caltech.edu/malaa/publications/atiya05sparse.pdf"
        ],
        [
         "31",
         "0020d5bdfc5f13026e7a1aca78e94724e8342b62",
         "A mutation in the Icsbp1 gene causes susceptibility to infection and a chronic myeloid leukemia–like syndrome in BXH-2 mice",
         "BXH-2 mice develop a fatal myeloid leukemia by a two-step mutagenic process. First, a BXH-2–specific recessive mutation causes a myeloproliferative syndrome. Second, retroviral insertions alter oncogenes or tumor suppressors, resulting in clonal expansion of leukemic cells. We have identified a recessive locus on chromosome 8 (Myls) that is responsible for myeloproliferation in BXH-2. This Myls interval has been narrowed down to 2 Mb and found to contain several positional candidates, including the interferon consensus sequence–binding protein 1 gene (Icsbp, also known as interferon regulatory factor 8 [IRF8]). We show that BXH-2 mice carry a mutation (915 C to T) resulting in an arginine-to-cysteine substitution at position 294 within the predicted IRF association domain of the protein. Although expression of Icsbp1 mRNA transcripts is normal in BXH-2 splenocytes, these cells are unable to produce interleukin 12 and interferon-γ in response to activating stimuli, confirming that R294C behaves as a loss-of-function mutation. Myeloproliferation in BXH-2 mice is concomitant to increased susceptibility to Mycobacterium bovis (BCG) despite the presence of resistance alleles at the Nramp1 locus. These results suggest a two-step model for chronic myeloid leukemia in BXH-2, in which inactivation of Icsbp1 predisposes to myeloproliferation and immunodeficiency. This event is required for retroviral replication, and subsequent insertional mutagenesis that causes leukemia in BXH-2 mice.",
         "https://rupress.org/jem/article-pdf/201/6/881/1153938/jem2016881.pdf"
        ],
        [
         "32",
         "0022e70878c2f2a7c3c679a3ef3160a5cb803e20",
         "Binding of estrogen receptor beta to estrogen response element in situ is independent of estradiol and impaired by its amino terminus.",
         "The functions of 17beta-estradiol (E2) are mediated by estrogen receptor (ER) alpha and beta. ERs display similar DNA- and ligand-binding properties in vitro. However, ERbeta shows lower transcriptional activity than ERalpha from the estrogen response element (ERE)-dependent signaling. We predicted that distinct amino termini contribute to differences in transcription efficacies of ERs by affecting in situ ER-ERE interactions. We used chromatin immunoprecipitation and a novel in situ ERE competition assay, which is based on the ability of ER to compete for ERE binding with a designer activator that constitutively induces transcription from an ERE-driven reporter construct. Interference of activator-mediated transcription by unliganded or liganded ERs was taken as an indication of ER-ERE interaction. Results revealed that ERs interacted with ERE similarly in the absence of E2. However, E2 enhanced the ERE binding of ERalpha but not that of ERbeta. The removal of the amino terminus increased the ERbeta-ERE interaction independent of E2. The ERbeta amino terminus also prevented E2-mediated enhancement of the chimeric ERalpha-ERE interaction. Thus, the amino terminus of ERbeta impairs the binding of ERbeta to ERE. The abrogation of ligand-dependent activation function 2 of the amino-terminally truncated ERbeta resulted in the manifestation of E2 effect on ERbeta-ERE interaction. This implies that E2-mediated enhancement of ERbeta-ERE interaction is masked by the activation function 2, whereas the intact amino terminus is a dominant region that decreases the binding of ERbeta to ERE. Thus, ERbeta-ERE interaction is independent of E2 and is impaired by its amino terminus. These findings provide an additional explanation for differences between ERalpha and ERbeta functions that could differentially affect the physiology and pathophysiology of E2 signaling.",
         "https://academic.oup.com/mend/article-pdf/19/11/2696/10717141/mend2696.pdf"
        ],
        [
         "33",
         "002348cfd4535febd8cc865cddd1f98a5de57c32",
         "Sensor node localization using mobile acoustic beacons",
         "We present a mobile acoustic beacon based sensor node localization method. Our technique is passive in that the sensor nodes themselves do not need to generate an acoustic signal for ranging. This saves cost, power and provides stealthy operation. Furthermore, the beacon can generate much more acoustic energy than a severely resource constrained sensor node, thereby significantly increasing the range. The acoustic ranging method uses a linear frequency modulated signal that can be accurately detected by matched filtering. This provides longer range and higher accuracy than the current state-of-the-art. The localization algorithm was especially designed to work in such acoustically reverberant environment, as urban terrain. The algorithm presented handles non-Gaussian ranging errors caused by echoes. Node locations are computed centrally by solving a global non-linear optimization problem in an iterative and incremental fashion",
         "https://ir.vanderbilt.edu/bitstream/1803/13704/1/ms-thesis-manish-kushwaha.pdf"
        ],
        [
         "34",
         "00236516f5be65f61e6fffa20a9ea4ff630b9a7e",
         "Impact of Software Vulnerability Announcements on the Market Value of Software Vendors - an Empirical Investigation",
         "Researchers in the area of information security have mainly been concerned with tools, techniques and policies that firms can use to protect themselves against security breaches. However, information security is as much about security software as it is about secure software. Software is not secure when it has defects or flaws which can be exploited by hackers to cause attacks such as unauthorized intrusion or denial of service attacks. Any public announcement makes about a software defect is termed as 'vulnerability disclosure'. Although research in software economics have studied firms' incentive to improve overall quality, there have been no studies to show that software vendors have an incentive to invest in building more secure software. In this paper, we use the event study methodology to examine software vendors' incentives to build more secure software. We collect data from leading national newspapers and industry sources like CERT by searching for reports on published software vulnerabilities. We show that vulnerability disclosures lead to a negative and significant change in market value for a software vendor. On average, a vendor loses around 0.6% value in stock price when a vulnerability is reported. This is equivalent to a loss in market capitalization values of $0.86 billion per vulnerability announcement. To provide further insight, we use the information content of the disclosure announcement to classify vulnerabilities into various types. We find that the change in stock price is more negative if the vendor fails to provide a patch at the time of disclosure. Moreover, vulnerabilities which cause a confidentiality related breach cause a greater decline in the market value for a vendor than the vulnerabilities which cause non-confidentiality related breaches. Also, more severe flaws have a significantly greater impact than flaws with low or moderate severity. Finally, we find that the markets do not punish a software vendor more severely if a third party discovers a flaw in its product than if the vendor itself discovers the flaw. Our analysis provides many interesting implications for software vendors as well as policy makers.",
         "http://archive.nyu.edu/bitstream/2451/14996/2/Infosec_Book%2bWattal%2bTelang.pdf"
        ],
        [
         "35",
         "0023cadbf311b9bffb7b283fd2e2edded70b640d",
         "Real-Time Polymerase Chain Reaction Quantification of Phytophthora capsici in Different Pepper Genotypes.",
         "ABSTRACT Reliable and sensitive quantification of Phytophthora capsici in pepper plants is of crucial importance in managing the multiple syndromes caused by this pathogen. A real-time polymerase chain reaction (PCR) assay was developed for the determination of P. capsici in pepper tissues. DNA levels of a highly virulent and a less virulent isolate were measured in different pepper genotypes with varying degrees of resistance. Using SYBR Green and specific primers for P. capsici, the minimal amount of pathogen DNA quantified was 10 pg. Pathogen DNA was recorded as early as 8 h postinoculation. Thereafter, the increase was rapid in susceptible cultivars and slower in resistant ones. The amount of pathogen DNA quantified in each pepper genotype correlated with susceptibility to Phytophthora root rot. Likewise, there was a relationship between the virulence of the pathogen and the degree of colonization. Differences also were found in oomycete amount among pepper tissues, with maximal pathogen biomass occurring in stems. The real-time PCR technique developed in this study was sensitive and robust enough to assess both pathogen development and resistance to Phytophthora root rot in different pepper genotypes.",
         "https://apsjournals.apsnet.org/doi/pdf/10.1094/PHYTO-95-1423"
        ],
        [
         "36",
         "0025bd43353f35f1564e81101155689b6bc62646",
         "Wing-to-Leg Homeosis by Spineless Causes Apoptosis Regulated by Fish-lips, a Novel Leucine-Rich Repeat Transmembrane Protein",
         "ABSTRACT Growth, patterning, and apoptosis are mutually interactive during development. For example, cells that select an abnormal fate in a developing field are frequently removed by apoptosis. An important issue in this process that needs to be resolved is the mechanism used by cells to discern their correct fate from an abnormal fate. In order to examine this issue, we developed an animal model that expresses the dioxin receptor homolog Spineless (Ss) ectopically in the Drosophila wing. The presence of mosaic clones ectopically expressing ss results in a local transformation of organ identity, homeosis, from wing into a leg or antenna. The cells with misspecified fates subsequently activate c-Jun N-terminal kinase to undergo apoptosis in an autonomous or nonautonomous manner depending on their position within the wing, suggesting that a cell-cell interaction is, at least in some cases, involved in the detection of misspecified cells. Similar position dependence is commonly observed when various homeotic genes controlling the body segments are ectopically expressed. The autonomous and nonautonomous apoptosis caused by ss is regulated by a novel leucine-rich repeat family transmembrane protein, Fish-lips (Fili) that interacts with surrounding normal cells. These data support a mechanism in which the lack of some membrane proteins helps to recognize the presence of different cell types and direct these cells to an apoptotic fate in order to exclude them from the normal developing field.",
         "https://europepmc.org/articles/pmc1069588?pdf=render"
        ],
        [
         "37",
         "0025eebeec63c1e7a74d3d1f355fe0cd214a504f",
         "The sentinel within: exploiting the immune system for cancer biomarkers.",
         "The release of proteins from tumors triggers an immune response in cancer patients. These tumor antigens arise from several mechanisms including tumor-specific alterations in protein expression, mutation, folding, degradation, or intracellular localization. Responses to most tumor antigens are rarely observed in healthy individuals, making the response itself a biomarker that betrays the presence of underlying cancer. Antibody immune responses show promise as clinical biomarkers because antibodies have long half-lives in serum, are easy to measure, and are stable in blood samples. However, our understanding of the specificity and the impact of the immune response in early stages of cancer is limited. The immune response to cancer, whether endogenous or driven by vaccines, involves highly specific T lymphocytes (which target tumor-derived peptides bound to self-MHC proteins) and B lymphocytes (which generate antibodies to tumor-derived proteins). T cell target antigens have been identified either by expression cloning from tumor cDNA libraries, or by prediction based on patterns of antigen expression (\"reverse immunology\"). B cell targets have been similarly identified using the antibodies in patient sera to screen cDNA libraries derived from tumor cell lines. This review focuses on the application of recent advances in proteomics for the identification of tumor antigens. These advances are opening the door for targeted vaccine development, and for using immune response signatures as biomarkers for cancer diagnosis and monitoring.",
         "https://europepmc.org/articles/pmc2522321?pdf=render"
        ],
        [
         "38",
         "00274747f36c8ebe700bd4a2c0a8e4d851ddf807",
         "Molecular Mechanisms of Cation Transport by the Renal Na+-K+-Cl- Cotransporter",
         "Two variants of the renal Na+-K+-Cl- cotransporter (NKCC2), called NKCC2A and NKCC2F, display marked differences in Na+, Rb+, and Cl- affinities, yet are identical to one another except for a 23-residue membrane-associated domain that is derived from alternatively spliced exons. The proximal portion of these exons is predicted to encode the second transmembrane domain (tm2) in the form of an α-helix, and the distal portion, part of the following connecting segment (cs1a). In recent studies, we have taken advantage of the A–F differences in kinetic behavior to determine which regions in tm2-cs1a are involved in ion transport. Functional characterizations of chimeras in which tm2 or cs1a were interchanged between the variants showed that both regions are important in specifying ion affinities, but did not allow delineating the contribution of individual residues. Here, we have extended these structure-function analyses by studying additional mutants in which variant residues between A and F were interchanged individually in the tm2-cs1a region (amino acid number 216, 220, 223, 229, or 233 in NKCC2). None of the substitutions were found to affect Km (C1-), suggesting that the affinity difference for anion transport is conveyed by a combination of variant residues in this domain. However, 2 substitutions in the tm2 of F were found to affect cation constants specifically; interestingly, one of these mutations (residue 216) only affected Km (Rb+) while the other (residue 220) only affected Km (Na+). We have thus identified two novel residues in NKCC2 that play a key role in cation transport. Because such residues should be adjacent to one another on the vertical axis of the tm2 α-helix, our results imply, furthermore, that the ion transport sites in NKCC2 could be physically linked.",
         "http://www.jbc.org/article/S0021925820792379/pdf"
        ],
        [
         "39",
         "00295936451c8a6b8a982d6ba9ab64cb647370ae",
         "Choline deficiency in mice and humans is associated with increased plasma homocysteine concentration after a methionine load.",
         "BACKGROUND\nElevated concentrations of homocysteine in blood may be an independent risk factor for the development of atherosclerosis. Elevated homocysteine concentrations can be caused by decreased methylation of homocysteine to form methionine, as occurs in folate deficiency. A parallel pathway exists for methylation of homocysteine, in which choline, by way of betaine, is the methyl donor.\n\n\nOBJECTIVE\nOur goal was to determine whether choline deficiency results in a decreased capacity to methylate homocysteine.\n\n\nDESIGN\nC57BL/6J mice were fed diets containing 0, 10, or 35 mmol choline/kg diet for 3 wk. We then administered an oral methionine load to the animals and measured plasma homocysteine concentrations. Also, in a pilot study, we examined 8 men who were fed a diet providing 550 mg choline/d per 70 kg body weight for 10 d, followed by a diet providing almost no choline, until the subjects were clinically judged to be choline deficient or for <or=42 d. A methionine load was administered at the end of each dietary phase.\n\n\nRESULTS\nTwo hours after the methionine load, choline-deficient mice had plasma homocysteine concentrations twice those of choline-fed mice. Four hours after the methionine load, clinically choline-depleted men had plasma homocysteine concentrations that were 35% greater than those in men not choline depleted.\n\n\nCONCLUSION\nThese results suggest that choline, like folate, plays an important role in the metabolism of homocysteine in humans and that response to a methionine load may be useful when assessing choline nutriture.",
         "https://academic.oup.com/ajcn/article-pdf/81/2/440/23875105/440.pdf"
        ],
        [
         "40",
         "002a108f32eb157c0b88aea3c6f29d4b614c3b78",
         "Altered gene expression during rat Wolffian duct development following di(n-butyl) phthalate exposure.",
         "Di(n-butyl) phthalate (DBP) is a common plasticizer and solvent that disrupts androgen-dependent male reproductive development in rats. In utero exposure to 500 mg/kg/day DBP on gestation days (GD) 12 to 21 decreases androgen biosynthetic enzymes, resulting in decreased fetal testicular testosterone levels. One consequence of prenatal DBP exposure is malformed epididymides in adult rats. Reduced fetal testosterone levels may be responsible for the malformation, since testosterone is required for Wolffian duct stabilization and their development into epididymides. Currently, little is understood about the molecular mechanisms of Wolffian duct differentiation. The objective of this study was to identify changes in gene expression associated with altered morphology of the proximal Wolffian duct following in utero exposure to DBP. Pregnant Crl:CD(R) (SD) rats were gavaged with corn oil vehicle or 500 mg/kg/day DBP from GD 12 to GD 19 or 21. There were only small morphological differences between control and DBP-exposed Wolffian ducts on GD 19. On GD 21, 89% of male fetuses in the DBP dose group showed marked underdevelopment of Wolffian ducts, characterized by decreased coiling. RNA was isolated from Wolffian ducts on GD 19 and 21. Together with empirical information, cDNA microarrays were used to help identify candidate genes that could be associated with the morphological changes observed on GD 21. These candidate genes were analyzed by real-time RT-PCR. Changes in mRNA expression were observed in genes within the insulin-like growth factor (IGF) pathway, the matrix metalloproteinase (MMP) family, the extracellular matrix, and in other developmentally conserved signaling pathways. On GD 19, immunolocalization of IGF-1 receptor protein demonstrated an increase in cytoplasmic expression in the mesenchymal and epithelial cells. There was also a variable decrease in androgen receptor protein in ductal epithelial cells on GD 19. This study provides insight into the effects of antiandrogens on the molecular mechanisms involved in Wolffian duct development. The altered morphology and changes in gene expression following DBP exposure are suggestive of altered paracrine interactions between ductal epithelial cells and the surrounding mesenchyme during Wolffian duct differentiation due to lowered testosterone production.",
         "https://academic.oup.com/toxsci/article-pdf/86/1/161/4657319/kfi172.pdf"
        ],
        [
         "41",
         "002a7a3e268e18203c78c3e2902ac1cd39f5dff9",
         "Prospective grading of neoplastic change in rat esophagus epithelium using angle-resolved low-coherence interferometry.",
         "Angle-resolved low-coherence interferometry (a/LCI) is used to obtain quantitative, depth-resolved nuclear morphology measurements. We compare the average diameter and texture of cell nuclei in rat esophagus epithelial tissue to grading criteria established in a previous a/LCI study to prospectively grade neoplastic progression. We exploit the depth resolution of a/LCI to exclusively examine the basal layer of the epithelium, approximately 50 to 100 microm beneath the tissue surface, without the need for exogenous contrast agents, tissue sectioning, or fixation. The results of two studies are presented that compare the performance of two a/LCI modalities. Overall, the combined studies show 91% sensitivity and 97% specificity for detecting dysplasia, using histopathology as the standard. In addition, the studies enable the effects of dietary chemopreventive agents, difluoromethylornithine (DFMO) and curcumin, to be assessed by observing modulation in the incidence of neoplastic change. We demonstrate that a/LCI is highly effective for monitoring neoplastic change and can be applied to assessing the efficacy of chemopreventive agents in the rat esophagus.",
         "https://www.spiedigitallibrary.org/journals/journal-of-biomedical-optics/volume-10/issue-5/051604/Prospective-grading-of-neoplastic-change-in-rat-esophagus-epithelium-using/10.1117/1.2102767.pdf"
        ],
        [
         "42",
         "002b13e918af5ff02210a66ae36361810a1f9d22",
         "The role of fear-relevant stimuli in visual search: a comparison of phylogenetic and ontogenetic stimuli.",
         "It has been argued that phylogenetic fear-relevant stimuli elicit preattentive capture of attention. To distinguish between fear relevance and time of appearance in evolutionary history, the authors compare phylogenetic and ontogenetic fear-relevant and fear-irrelevant stimuli in a visual search task. The authors found no evidence for a special role of phylogenetic fear-relevant stimuli; it seems that fear relevance in general is more important than is the evolutionary age. The pattern of results indicates that attention toward threatening stimuli is mainly affected by a late component that prolongs the disengagement of attention.",
         "https://access.archive-ouverte.unige.ch/access/metadata/414fbfe1-4481-4240-92c1-e62a3593f0f0/download"
        ],
        [
         "43",
         "002b2d9da5439eb1d847ab261f03e536e0880362",
         "WBN/Kob-Ht rats spontaneously develop dermatitis under conventional conditions: another possible model for atopic dermatitis.",
         "WBN/Kob-Ht rats (Ht-rats) raised under conventional conditions spontaneously developed dermatitis. In this study, we carried out histopathological analysis to elucidate the pathological features of the dermatitis in Ht-rats. We then tried to detect Staphylococcus species recovered from the skin lesions of Ht-rats. We also measured the serum levels of total IgE, IL-4 and IFN-gamma in these rats. The histopathological data indicated that inflammatory cells had infiltrated the skin lesions. Staphylococcus aureus was recovered from the skin lesions, and the serum levels of total IgE and IL-4 were elevated in Ht-rats with dermatitis. These results suggest that dermatitis in Ht-rats is similar to that in the DS-Nh mice, which has recently been proposed as an animal model for human atopic dermatitis.",
         "https://www.jstage.jst.go.jp/article/expanim/54/5/54_5_461/_pdf"
        ],
        [
         "44",
         "002bc0bcbf3b5f2dc32d0f9690afddeeadebe2f3",
         "Structural Analyses Reveal Phosphatidyl Inositols as Ligands for the NR5 Orphan Receptors SF-1 and LRH-1",
         "None",
         "http://www.cell.com/article/S009286740500098X/pdf"
        ],
        [
         "45",
         "002c2130f79dcbd4ddd5866fd302a424fb8914e8",
         "Rat Strain Effects of AT1 Receptor Activation on D1 Dopamine Receptors in Immortalized Renal Proximal Tubule Cells",
         "The dopaminergic and renin-angiotensin systems regulate blood pressure, in part, by affecting sodium transport in renal proximal tubules (RPTs). We have reported that activation of a D1-like receptor decreases AT1 receptor expression in the mouse kidney and in immortalized RPT cells from Wistar-Kyoto (WKY) rats. The current studies were designed to test the hypothesis that activation of the AT1 receptor can also regulate the D1 receptor in RPT cells, and this regulation is aberrant in spontaneously hypertensive rats (SHRs). Long-term (24 hours) stimulation of RPT cells with angiotensin II, via AT1 receptors increased total cellular D1 receptor protein in a time- and concentration-dependent manner in WKY but not in SHR cells. Short-term stimulation (15 minutes) with angiotensin II did not affect total cellular D1 receptor protein in either rat strain. However, in the short-term experiments, angiotensin II decreased cell surface membrane D1 receptor protein in WKY but not in SHR cells. D1 and AT1 receptors colocalized (confocal microscopy) and their coimmunoprecipitation was greater in WKY than in SHRs. However, AT1/D1 receptor coimmunoprecipitation was decreased by angiotensin II (10−8M/24 hours) to a similar extent in WKY (−22±8%) and SHRs (−22±12%). In summary, these studies show that AT1 and D1 receptors interact differently in RPT cells from WKY and SHRs. It is possible that an angiotensin II-mediated increase in D1 receptors and dissociation of AT1 from D1 receptors serve to counter regulate the long-term action of angiotensin II in WKY rats; different effects are seen in SHRs.",
         "https://www.ahajournals.org/doi/pdf/10.1161/01.HYP.0000184251.01159.72"
        ],
        [
         "46",
         "002c412eb8a1ec7a73278e2f447f5a0a914e35c8",
         "The value of c-kit mutational analysis in a cytokeratin positive gastrointestinal stromal tumour",
         "The expression of cytokeratins in gastrointestinal stromal tumours (GISTs) is rare and may lead to diagnostic confusion when it occurs. This report describes a metastatic GIST that stained strongly for cytokeratins, CD117, and CD34 in a patient who was previously diagnosed with gastric epithelioid angiosarcoma. A review of both tumours showed the same histological and immunohistochemical profiles, and c-kit molecular analysis revealed an insertional mutation at codon 558 of exon 11 in both tumours. Thus, pathologists should be aware that GISTs can occasionally express cytokeratins, and that c-kit mutational investigations may have a key diagnostic role and may prevent diagnostic mistakes that could have important clinical implications.",
         "https://jcp.bmj.com/content/jclinpath/58/9/991.full.pdf"
        ],
        [
         "47",
         "002cc193a7a313a08711d45ac3bea51509e0edc0",
         "Contribution of high p34cdc2 kinase activity to premature chromosome condensation of injected somatic cell nuclei in rat oocytes.",
         "The present study was undertaken to clarify the relationship between the p34cdc2 kinase activity of in vitro-aged or enucleated rat oocytes and the premature chromosome condensation (PCC) of microinjected cumulus cell nuclei. Wistar rat oocytes were placed in vitro up to 120 min after the animal was killed. The p34cdc2 kinase activity of the oocytes decreased in a time-dependent manner. The incidence of PCC was higher when nuclear injection into intact oocytes was completed in 15-45 min rather than 46-120 min. When rat oocytes were enucleated for subsequent nuclear injection, the p34cdc2 kinase activity transiently increased soon after enucleation but drastically decreased after 30 min. Removal of the cytoplasm instead of the meta-phase-plate did not affect the p34cdc2 kinase activity even after 60 min. PCC occurred in intact and cytoplasm-removed oocytes but not in enucleated oocytes. In contrast, oocytes from BDF1 mice exhibited a p34cdc2 kinase level twice that of rat oocytes and supported PCC despite enucleation. The p34cdc2 kinase level of intact rat oocytes was reduced to the equivalent level of aged (120 min) or enucleated (+60 min) oocytes by a 45 min treatment with roscovitine, an inhibitor of p34cdc2 kinase. None of the roscovitine-treated oocytes supported PCC while half of the control oocytes did. When rat oocytes were treated with MG132, a proteasome inhibitor, delayed inactivation of the p34cdc2 kinase was observed in the MG132-treated oocytes. A significantly higher proportion of the MG132-treated oocytes supported PCC when compared with the control oocytes. Moreover, a higher proportion of MG132-treated and enucleated oocytes carried two pseudo-pronuclei after cumulus cell injection and developed to the two-cell stage when compared with the enucleated oocytes at the telophase-II stage. These results suggest that the decreased level of p34cdc2 kinase activity in aged or enucleated rat oocytes is responsible for their inability to support PCC of microinjected donor cell nuclei and that inhibition of p34cdc2 kinase inactivation by chemicals such as MG132 is in part effective for rat oocytes to promote PCC and further development.",
         "https://rep.bioscientifica.com/downloadpdf/journals/rep/129/2/1290171.pdf"
        ],
        [
         "48",
         "002cc4c2e457c3cc0fb0f704d0483a003e8a0575",
         "Comparison of automated microbroth dilution and agar dilution for antimicrobial susceptibility of Campylobacter jejuni isolated from dairy sources.",
         "OBJECTIVES\nTo compare the agreement between microbroth dilution and agar dilution for antimicrobial susceptibility testing of Campylobacter jejuni.\n\n\nMETHODS\nUtilizing commercially prepared antimicrobial panels, microbroth dilution was compared with agar dilution for determining antimicrobial susceptibility in C. jejuni isolates. To assess the performance of both techniques for ampicillin, 190 C. jejuni isolates from dairy cattle were utilized. A group of 172 C. jejuni isolates from dairy sources were used to compare the susceptibility to ciprofloxacin, erythromycin, nalidixic acid and tetracycline.\n\n\nRESULTS\nOur results indicate that microbroth dilution and agar dilution agree within +/-1 log2 dilution for 86.7% of the isolates tested. Ciprofloxacin had the highest level of agreement for isolates tested by both techniques, resulting in a kappa of 0.886 and 97.1% agreement +/-1 log2 dilution. The least agreement was observed in determining the susceptibility of isolates to ampicillin and erythromycin (82.1 and 79.7% agreement +/-1 log2 dilution). However, kappa statistics were considered to have good agreement for these antimicrobials. There were no significant differences in the summary statistics for any of the five antimicrobials evaluated for the isolates analysed by the percentage of resistant isolates, MIC50, MIC75 or MIC90 beyond +/-1 log2 dilution. There was no association in the classification of resistance by the testing methods employed. We also demonstrated that the quality control strain of C. jejuni ATCC 33650 performed in a consistent manner for both agar dilution and microbroth dilution.\n\n\nCONCLUSIONS\nMicrobroth dilution may be an acceptable alternative to agar dilution for determining susceptibility of C. jejuni in research or surveillance where flow of samples, labour efficiency and cost may restrict the use of agar dilution.",
         "https://academic.oup.com/jac/article-pdf/56/4/686/2308205/dki309.pdf"
        ],
        [
         "49",
         "002d29c3ca9c915040b454c1572a89378eec6a72",
         "Numerical Periodic Normalization for Codim 1 Bifurcations of Limit Cycles",
         "Explicit computational formulas for the coefficients of the periodic normal forms for all codim 1 bifurcations of limit cycles in generic autonomous ODEs are derived. They include second-order coefficients for the fold (limit point) bifurcation, as well as third-order coefficients for the flip (period-doubling) and Neimark--Sacker (torus) bifurcations. The formulas are independent of the dimension of the phase space and involve solutions of certain boundary-value problems on the interval [0,T], where T is the period of the critical cycle, as well as multilinear functions from the Taylor expansion of the right-hand sides near the cycle. The formulas allow us to distinguish between sub- and supercritical bifurcations, in agreement with earlier asymptotic expansions of the bifurcating solutions. Our formulation makes it possible to use robust numerical boundary-value algorithms based on orthogonal collocation, rather than shooting techniques, which greatly expands its applicability. The actual implementation is described in detail. We include three numerical examples, in which codim 2 singularities are detected along branches of codim 1 bifurcations of limit cycles as zeros of the periodic normal form coefficients.",
         "http://arxiv.org/pdf/1111.4445.pdf"
        ]
       ],
       "shape": {
        "columns": 4,
        "rows": 3737193
       }
      },
      "text/html": [
       "<div>\n",
       "<style scoped>\n",
       "    .dataframe tbody tr th:only-of-type {\n",
       "        vertical-align: middle;\n",
       "    }\n",
       "\n",
       "    .dataframe tbody tr th {\n",
       "        vertical-align: top;\n",
       "    }\n",
       "\n",
       "    .dataframe thead th {\n",
       "        text-align: right;\n",
       "    }\n",
       "</style>\n",
       "<table border=\"1\" class=\"dataframe\">\n",
       "  <thead>\n",
       "    <tr style=\"text-align: right;\">\n",
       "      <th></th>\n",
       "      <th>paperId</th>\n",
       "      <th>title</th>\n",
       "      <th>abstract</th>\n",
       "      <th>openAccessPdf</th>\n",
       "    </tr>\n",
       "  </thead>\n",
       "  <tbody>\n",
       "    <tr>\n",
       "      <th>0</th>\n",
       "      <td>0001d5fbff6f7c763a78dd5d141292416dcfae59</td>\n",
       "      <td>Disruption of Fibroblast Growth Factor Signal ...</td>\n",
       "      <td>Purpose: Synovial sarcoma is a soft tissue sar...</td>\n",
       "      <td>https://aacrjournals.org/clincancerres/article...</td>\n",
       "    </tr>\n",
       "    <tr>\n",
       "      <th>1</th>\n",
       "      <td>000372290caae5482dcdd7954feb895ccbab921d</td>\n",
       "      <td>Shuffled iterative decoding</td>\n",
       "      <td>Shuffled versions of iterative decoding of low...</td>\n",
       "      <td>http://www.merl.com/publications/docs/TR2005-0...</td>\n",
       "    </tr>\n",
       "    <tr>\n",
       "      <th>2</th>\n",
       "      <td>000376ec6f6ade6261fc12df9eddd25a88c1e9ca</td>\n",
       "      <td>Diphasic effects of Astragalus membranaceus BU...</td>\n",
       "      <td>This study was designed to investigate the eff...</td>\n",
       "      <td>https://www.jstage.jst.go.jp/article/bpb/28/8/...</td>\n",
       "    </tr>\n",
       "    <tr>\n",
       "      <th>3</th>\n",
       "      <td>0003a5747ee3676be1b6d2c72c13a04e41811274</td>\n",
       "      <td>Critical roles of CD146 in zebrafish vascular ...</td>\n",
       "      <td>In this report, we use zebrafish as a model sy...</td>\n",
       "      <td>https://onlinelibrary.wiley.com/doi/pdfdirect/...</td>\n",
       "    </tr>\n",
       "    <tr>\n",
       "      <th>4</th>\n",
       "      <td>00043e28cffe744909bf69cde70e6dac0bce0a10</td>\n",
       "      <td>Differential Contribution of Troponin I Phosph...</td>\n",
       "      <td>Cardiac troponin I is a phosphorylation target...</td>\n",
       "      <td>http://www.jbc.org/article/S0021925820589394/pdf</td>\n",
       "    </tr>\n",
       "    <tr>\n",
       "      <th>...</th>\n",
       "      <td>...</td>\n",
       "      <td>...</td>\n",
       "      <td>...</td>\n",
       "      <td>...</td>\n",
       "    </tr>\n",
       "    <tr>\n",
       "      <th>3737188</th>\n",
       "      <td>fea6042ae3d4b2e873426e75ef4e3908fefdf2e7</td>\n",
       "      <td>PD-SORT: Occlusion-Robust Multi-Object Trackin...</td>\n",
       "      <td>Multi-object tracking (MOT) is a rising topic ...</td>\n",
       "      <td>http://arxiv.org/pdf/2501.11288</td>\n",
       "    </tr>\n",
       "    <tr>\n",
       "      <th>3737189</th>\n",
       "      <td>fed4e1c03728d1747984ccc035e9e52d4f576666</td>\n",
       "      <td>Massive outsourcing of energetically costly am...</td>\n",
       "      <td>Animals are generally capable of synthesizing ...</td>\n",
       "      <td>https://www.biorxiv.org/content/biorxiv/early/...</td>\n",
       "    </tr>\n",
       "    <tr>\n",
       "      <th>3737190</th>\n",
       "      <td>fee975b0352fbf35fdc1926b25a16d8531ebb4e6</td>\n",
       "      <td>Dialogue sentiment analysis based on dialogue ...</td>\n",
       "      <td>None</td>\n",
       "      <td>https://www.researchsquare.com/article/rs-4129...</td>\n",
       "    </tr>\n",
       "    <tr>\n",
       "      <th>3737191</th>\n",
       "      <td>ff8fd5f30461bb788c6a32f37fe0f7821eafebf6</td>\n",
       "      <td>Follow the Approximate Sparse Leader for No-Re...</td>\n",
       "      <td>We consider the problem of online sparse linea...</td>\n",
       "      <td>http://arxiv.org/pdf/2501.00799</td>\n",
       "    </tr>\n",
       "    <tr>\n",
       "      <th>3737192</th>\n",
       "      <td>ffd00ce568f98d0febe6aeb407b54f9075ea732b</td>\n",
       "      <td>AI-assisted design of experiments at the front...</td>\n",
       "      <td>Designing the next generation colliders and de...</td>\n",
       "      <td>http://arxiv.org/pdf/2501.04448</td>\n",
       "    </tr>\n",
       "  </tbody>\n",
       "</table>\n",
       "<p>3737193 rows × 4 columns</p>\n",
       "</div>"
      ],
      "text/plain": [
       "                                          paperId  \\\n",
       "0        0001d5fbff6f7c763a78dd5d141292416dcfae59   \n",
       "1        000372290caae5482dcdd7954feb895ccbab921d   \n",
       "2        000376ec6f6ade6261fc12df9eddd25a88c1e9ca   \n",
       "3        0003a5747ee3676be1b6d2c72c13a04e41811274   \n",
       "4        00043e28cffe744909bf69cde70e6dac0bce0a10   \n",
       "...                                           ...   \n",
       "3737188  fea6042ae3d4b2e873426e75ef4e3908fefdf2e7   \n",
       "3737189  fed4e1c03728d1747984ccc035e9e52d4f576666   \n",
       "3737190  fee975b0352fbf35fdc1926b25a16d8531ebb4e6   \n",
       "3737191  ff8fd5f30461bb788c6a32f37fe0f7821eafebf6   \n",
       "3737192  ffd00ce568f98d0febe6aeb407b54f9075ea732b   \n",
       "\n",
       "                                                     title  \\\n",
       "0        Disruption of Fibroblast Growth Factor Signal ...   \n",
       "1                              Shuffled iterative decoding   \n",
       "2        Diphasic effects of Astragalus membranaceus BU...   \n",
       "3        Critical roles of CD146 in zebrafish vascular ...   \n",
       "4        Differential Contribution of Troponin I Phosph...   \n",
       "...                                                    ...   \n",
       "3737188  PD-SORT: Occlusion-Robust Multi-Object Trackin...   \n",
       "3737189  Massive outsourcing of energetically costly am...   \n",
       "3737190  Dialogue sentiment analysis based on dialogue ...   \n",
       "3737191  Follow the Approximate Sparse Leader for No-Re...   \n",
       "3737192  AI-assisted design of experiments at the front...   \n",
       "\n",
       "                                                  abstract  \\\n",
       "0        Purpose: Synovial sarcoma is a soft tissue sar...   \n",
       "1        Shuffled versions of iterative decoding of low...   \n",
       "2        This study was designed to investigate the eff...   \n",
       "3        In this report, we use zebrafish as a model sy...   \n",
       "4        Cardiac troponin I is a phosphorylation target...   \n",
       "...                                                    ...   \n",
       "3737188  Multi-object tracking (MOT) is a rising topic ...   \n",
       "3737189  Animals are generally capable of synthesizing ...   \n",
       "3737190                                               None   \n",
       "3737191  We consider the problem of online sparse linea...   \n",
       "3737192  Designing the next generation colliders and de...   \n",
       "\n",
       "                                             openAccessPdf  \n",
       "0        https://aacrjournals.org/clincancerres/article...  \n",
       "1        http://www.merl.com/publications/docs/TR2005-0...  \n",
       "2        https://www.jstage.jst.go.jp/article/bpb/28/8/...  \n",
       "3        https://onlinelibrary.wiley.com/doi/pdfdirect/...  \n",
       "4         http://www.jbc.org/article/S0021925820589394/pdf  \n",
       "...                                                    ...  \n",
       "3737188                    http://arxiv.org/pdf/2501.11288  \n",
       "3737189  https://www.biorxiv.org/content/biorxiv/early/...  \n",
       "3737190  https://www.researchsquare.com/article/rs-4129...  \n",
       "3737191                    http://arxiv.org/pdf/2501.00799  \n",
       "3737192                    http://arxiv.org/pdf/2501.04448  \n",
       "\n",
       "[3737193 rows x 4 columns]"
      ]
     },
     "metadata": {},
     "output_type": "display_data"
    }
   ],
   "source": [
    "if 'arxiv' in dataset_source.lower():\n",
    "    data_path = os.path.join(config.path_to_data, 'arxiv-metadata-oai-snapshot.json')\n",
    "    data = pd.read_json(data_path, lines=True)\n",
    "elif 'semantics' in dataset_source.lower():\n",
    "    data_path = os.path.join(config.path_to_data, 'semnaticsscholar_')\n",
    "    metadata = pd.read_parquet(data_path + \"metadata.parquet\", engine=\"pyarrow\")\n",
    "    textdata = pd.read_parquet(data_path + \"text.parquet\", engine=\"pyarrow\")\n",
    "\n",
    "display(metadata)\n",
    "display(textdata)"
   ]
  },
  {
   "cell_type": "markdown",
   "metadata": {},
   "source": [
    "## 2- Load embedding model and compute article embeddings"
   ]
  },
  {
   "cell_type": "code",
   "execution_count": 20,
   "metadata": {},
   "outputs": [],
   "source": [
    "model_name = 'allenai/specter2'#'sentence-transformers/all-mpnet-base-v1' #\n",
    "batch_size = 128\n",
    "max_length = 512\n",
    "Nsamples = len(data)\n",
    "device = torch.device('cuda' if torch.cuda.is_available() else 'cpu')"
   ]
  },
  {
   "cell_type": "code",
   "execution_count": 21,
   "metadata": {},
   "outputs": [
    {
     "name": "stderr",
     "output_type": "stream",
     "text": [
      "huggingface/tokenizers: The current process just got forked, after parallelism has already been used. Disabling parallelism to avoid deadlocks...\n",
      "To disable this warning, you can either:\n",
      "\t- Avoid using `tokenizers` before the fork if possible\n",
      "\t- Explicitly set the environment variable TOKENIZERS_PARALLELISM=(true | false)\n"
     ]
    },
    {
     "data": {
      "application/vnd.jupyter.widget-view+json": {
       "model_id": "f0b9382cb7f141eba84ed70bae7d7ca4",
       "version_major": 2,
       "version_minor": 0
      },
      "text/plain": [
       "Fetching 4 files:   0%|          | 0/4 [00:00<?, ?it/s]"
      ]
     },
     "metadata": {},
     "output_type": "display_data"
    }
   ],
   "source": [
    "if 'sentence-transformer' in model_name:\n",
    "    tokenizer = AutoTokenizer.from_pretrained(model_name)\n",
    "    model = AutoModel.from_pretrained(model_name)\n",
    "elif 'specter2' in model_name:\n",
    "    tokenizer = AutoTokenizer.from_pretrained('allenai/specter2_base')\n",
    "    model = AutoAdapterModel.from_pretrained('allenai/specter2_base')\n",
    "    model.load_adapter(model_name, source=\"hf\", set_active=True)\n",
    "\n",
    "model.to(device);\n",
    "for param in model.parameters():\n",
    "    param.requires_grad = False"
   ]
  },
  {
   "cell_type": "code",
   "execution_count": 22,
   "metadata": {},
   "outputs": [
    {
     "name": "stderr",
     "output_type": "stream",
     "text": [
      "total of 473037 papers:   0%|          | 0/3696 [00:00<?, ?batch/s]"
     ]
    },
    {
     "name": "stderr",
     "output_type": "stream",
     "text": [
      "total of 473037 papers: 100%|██████████| 3696/3696 [1:18:58<00:00,  1.28s/batch]\n"
     ]
    }
   ],
   "source": [
    "# preprocess the input\n",
    "embeddings = []\n",
    "\n",
    "model.eval()\n",
    "with torch.no_grad():\n",
    "    with tqdm(range(Nsamples//batch_size + 1), desc=f'total of {Nsamples} papers', unit='batch') as pbar:\n",
    "        for i in pbar:\n",
    "            batch_text = data.iloc[i*batch_size:(i + 1)*batch_size]['title'] + tokenizer.sep_token + data.iloc[i*batch_size:(i + 1)*batch_size]['abstract']\n",
    "            batch_text = batch_text.to_list()\n",
    "            if batch_text:\n",
    "                batch_tokens = tokenizer(batch_text, padding=True, truncation=True, return_tensors=\"pt\", return_token_type_ids=False, max_length=max_length)\n",
    "                for key in batch_tokens.keys():\n",
    "                    batch_tokens[key] = batch_tokens[key].to(device)\n",
    "                \n",
    "                output = model(**batch_tokens)\n",
    "                # first token in the batch as the embedding\n",
    "                if 'pooler_output' in output.keys():\n",
    "                    embeddings_batch = output.pooler_output.cpu().numpy().astype(np.float32)\n",
    "                else:\n",
    "                    embeddings_batch = output.last_hidden_state[:, 0, :].cpu().numpy().astype(np.float32)\n",
    "                    \n",
    "                embeddings.append(embeddings_batch)"
   ]
  },
  {
   "cell_type": "markdown",
   "metadata": {},
   "source": [
    "## 3- Save embeddings with metadata"
   ]
  },
  {
   "cell_type": "code",
   "execution_count": 23,
   "metadata": {},
   "outputs": [],
   "source": [
    "model_nickname = model_name.split('/')[-1]\n",
    "embeddings_filepath = os.path.join(config.path_to_data, 'embeddings', f'embeddings_{dataset_source}_{model_nickname}.h5')"
   ]
  },
  {
   "cell_type": "code",
   "execution_count": 24,
   "metadata": {},
   "outputs": [],
   "source": [
    "embeddings = np.concat(embeddings, axis=0)"
   ]
  },
  {
   "cell_type": "code",
   "execution_count": 27,
   "metadata": {},
   "outputs": [],
   "source": [
    "B, D = embeddings.shape\n",
    "with pd.HDFStore(embeddings_filepath, mode=\"w\", complib=\"blosc\", complevel=9) as store:\n",
    "    store.put(\"metadata\", data, format=\"table\", data_columns=True)\n",
    "    store.put(\"embeddings\", pd.DataFrame(embeddings).set_index(data.index), format=\"table\")"
   ]
  },
  {
   "cell_type": "markdown",
   "metadata": {},
   "source": [
    "## 4- Load embeddings and query model"
   ]
  },
  {
   "cell_type": "code",
   "execution_count": 28,
   "metadata": {},
   "outputs": [
    {
     "name": "stderr",
     "output_type": "stream",
     "text": [
      "huggingface/tokenizers: The current process just got forked, after parallelism has already been used. Disabling parallelism to avoid deadlocks...\n",
      "To disable this warning, you can either:\n",
      "\t- Avoid using `tokenizers` before the fork if possible\n",
      "\t- Explicitly set the environment variable TOKENIZERS_PARALLELISM=(true | false)\n"
     ]
    },
    {
     "data": {
      "application/vnd.jupyter.widget-view+json": {
       "model_id": "efb94e37c9374d5eaec4372e2cd1f74e",
       "version_major": 2,
       "version_minor": 0
      },
      "text/plain": [
       "Fetching 4 files:   0%|          | 0/4 [00:00<?, ?it/s]"
      ]
     },
     "metadata": {},
     "output_type": "display_data"
    }
   ],
   "source": [
    "device = torch.device('cuda' if torch.cuda.is_available() else 'cpu')\n",
    "max_length = 512\n",
    "model_name = 'allenai/specter2'#'sentence-transformers/all-mpnet-base-v1' #\n",
    "model_nickname = model_name.split('/')[-1]\n",
    "embeddings_filepath = os.path.join(config.path_to_data, 'embeddings', f'embeddings_{dataset_source}_{model_nickname}.h5')\n",
    "center_embeddings = False\n",
    "\n",
    "if 'sentence-transformer' in model_name:\n",
    "    tokenizer = AutoTokenizer.from_pretrained(model_name)\n",
    "    model_query = AutoModel.from_pretrained(model_name)\n",
    "elif 'specter2' in model_name:\n",
    "    tokenizer = AutoTokenizer.from_pretrained('allenai/specter2_base')\n",
    "    model_query = AutoAdapterModel.from_pretrained('allenai/specter2_base')\n",
    "    model_query.load_adapter(\"allenai/specter2_adhoc_query\", source=\"hf\", set_active=True)\n",
    "\n",
    "model_query.to(device);\n",
    "for param in model_query.parameters():\n",
    "    param.requires_grad = False"
   ]
  },
  {
   "cell_type": "code",
   "execution_count": null,
   "metadata": {},
   "outputs": [],
   "source": [
    "with pd.HDFStore(embeddings_filepath, mode=\"r\") as store:\n",
    "    data = store.select(\"metadata\")#, where=\"citationCount > 10\")\n",
    "    idx_filtered = data.index.to_list()\n",
    "    embeddings = store.select(\"embeddings\", where=f\"index in {idx_filtered}\").to_numpy()"
   ]
  },
  {
   "cell_type": "code",
   "execution_count": 30,
   "metadata": {},
   "outputs": [],
   "source": [
    "#normalize embeddings\n",
    "if center_embeddings:\n",
    "    embeddings_mean = embeddings.mean(axis=0, keepdims=True)\n",
    "else:\n",
    "    embeddings_mean = 0\n",
    "\n",
    "embeddings_norm = (embeddings - embeddings_mean) / np.linalg.norm(embeddings - embeddings_mean,axis=-1, keepdims=True)"
   ]
  },
  {
   "cell_type": "markdown",
   "metadata": {},
   "source": [
    "## 4- Ranking based on cos similarity"
   ]
  },
  {
   "cell_type": "code",
   "execution_count": 53,
   "metadata": {},
   "outputs": [],
   "source": [
    "K = 10\n",
    "query = \"Gerneral review on usage of transformers in biology\" #data.iloc[1200]['title']\n",
    "#possibly parse, expand and reformat the query using a LLM"
   ]
  },
  {
   "cell_type": "code",
   "execution_count": 54,
   "metadata": {},
   "outputs": [],
   "source": [
    "query_input = tokenizer([query], padding=True, truncation=True,\n",
    "                              return_tensors=\"pt\", return_token_type_ids=False, max_length=max_length)\n",
    "\n",
    "for key in query_input.keys():\n",
    "    query_input[key] = query_input[key].to(device)\n",
    "with torch.no_grad():\n",
    "    output = model_query(**query_input)\n",
    "    if 'pooler_output' in output.keys():\n",
    "        embs = output.pooler_output.cpu().numpy()\n",
    "    else:\n",
    "        embs = output.last_hidden_state[:, 0, :].cpu().numpy()\n",
    "\n",
    "#normalize embedding\n",
    "embs_norm = (embs - embeddings_mean) / np.linalg.norm(embs - embeddings_mean,axis=-1, keepdims=True)"
   ]
  },
  {
   "cell_type": "code",
   "execution_count": 55,
   "metadata": {},
   "outputs": [],
   "source": [
    "#Compute cos similarity and find topK\n",
    "similarity_matrix = np.einsum('bc,kc->bk', embs_norm, embeddings_norm)\n",
    "topK_indices = np.argsort(-similarity_matrix, axis=-1)[:,:K]\n",
    "topK_values = np.take_along_axis(similarity_matrix, topK_indices, axis=-1)\n",
    "\n",
    "topK_indices = topK_indices[0]\n",
    "topK_values = topK_values[0]"
   ]
  },
  {
   "cell_type": "code",
   "execution_count": 56,
   "metadata": {},
   "outputs": [
    {
     "name": "stdout",
     "output_type": "stream",
     "text": [
      "[407009  38751 408477  13335  95296 112836 364519  48757 136316 467049] \n",
      " [0.8869703  0.88259465 0.88202095 0.8807894  0.880435   0.8800655\n",
      " 0.8794871  0.87924373 0.8786969  0.87815005]\n"
     ]
    }
   ],
   "source": [
    "print(topK_indices,'\\n',topK_values)"
   ]
  },
  {
   "cell_type": "code",
   "execution_count": 57,
   "metadata": {},
   "outputs": [
    {
     "name": "stdout",
     "output_type": "stream",
     "text": [
      "407009\n",
      "Research on General-Purpose Brain-Inspired Computing Systems\n",
      "None\n",
      "38751\n",
      "Physical deep learning with biologically inspired training method: gradient-free approach for physical hardware\n",
      "None\n",
      "408477\n",
      "A survey on dynamic populations in bio-inspired algorithms\n",
      "None\n",
      "13335\n",
      "A computational model of organism development and carcinogenesis resulting from cells’ bioelectric properties and communication\n",
      "None\n",
      "95296\n",
      "A Curve Approximation Approach Using Bio-inspired Polar Coordinate Bald Eagle Search Algorithm\n",
      "None\n",
      "112836\n",
      "Hopf physical reservoir computer for reconfigurable sound recognition\n",
      "None\n",
      "364519\n",
      "Bioimpedance basics and phase angle fundamentals\n",
      "None\n",
      "48757\n",
      "Efficiency analysis of artificial vs. Spiking Neural Networks on FPGAs\n",
      "None\n",
      "136316\n",
      "Dynamic analysis and application in medical digital image watermarking of a new multi-scroll neural network with quartic nonlinear memristor\n",
      "None\n",
      "467049\n",
      "Research on the pathogenesis of Alzheimer's disease based on thalamocortical computational model\n",
      "Alpha rhythm slowing is an important electroencephalogram(EEG) feature associated with (AD). This study aims to understand the correlation between alpha band deceleration and molecular changes from the perspective of neural computing. Considering the effect of Aβ amyloid deposition on the inhibitory changes in the thalamic, a thalamic cortical model coupled with Aβ amyloid is established. The results show that Aβ amyloid deposition may induce neurotoxicity in thalamic reticular nucleus neurons, which results in inhibitory changes in the thalamus and slows the alpha rhythm of EEG output from the thalamus. In order to understand the pathogenesis more intuitively, some numerical simulations are provided to illustrate the obtained theories. This research is helpful to understand the pathogenesis of AD, so as to provide theoretical basis for the intervention and control of the disease.\n"
     ]
    }
   ],
   "source": [
    "for k in topK_indices[:10]:\n",
    "    print(k)\n",
    "    print(data.iloc[k]['title'])\n",
    "    print(data.iloc[k]['abstract'])"
   ]
  },
  {
   "cell_type": "markdown",
   "metadata": {},
   "source": [
    "## 5- Refinement with recommendation model or based on user previous selection"
   ]
  },
  {
   "cell_type": "code",
   "execution_count": null,
   "metadata": {},
   "outputs": [],
   "source": []
  },
  {
   "cell_type": "markdown",
   "metadata": {},
   "source": [
    "## 5- RAG based on topK search"
   ]
  },
  {
   "cell_type": "code",
   "execution_count": null,
   "metadata": {},
   "outputs": [
    {
     "data": {
      "application/vnd.jupyter.widget-view+json": {
       "model_id": "ca85f4e7a1064ef1a99f42bf53066e67",
       "version_major": 2,
       "version_minor": 0
      },
      "text/plain": [
       "Loading checkpoint shards:   0%|          | 0/2 [00:00<?, ?it/s]"
      ]
     },
     "metadata": {},
     "output_type": "display_data"
    },
    {
     "name": "stderr",
     "output_type": "stream",
     "text": [
      "Device set to use cuda:0\n"
     ]
    }
   ],
   "source": [
    "import torch\n",
    "from transformers import pipeline\n",
    "\n",
    "model_id = \"meta-llama/Llama-3.2-3B-Instruct\"\n",
    "pipe = pipeline(\n",
    "    \"text-generation\",\n",
    "    model=model_id,\n",
    "    torch_dtype=torch.bfloat16,\n",
    "    device_map=\"auto\",\n",
    ")"
   ]
  },
  {
   "cell_type": "code",
   "execution_count": 58,
   "metadata": {},
   "outputs": [
    {
     "name": "stderr",
     "output_type": "stream",
     "text": [
      "Setting `pad_token_id` to `eos_token_id`:128001 for open-end generation.\n"
     ]
    },
    {
     "name": "stdout",
     "output_type": "stream",
     "text": [
      "Based on my general knowledge, I can provide a general overview of the usage of transformers in biology.\n",
      "\n",
      "Transformers, a type of neural network architecture, have gained significant attention in recent years due to their effectiveness in various natural language processing (NLP) tasks. However, their applications extend beyond NLP, and they have been increasingly used in biology to analyze and interpret large biological datasets.\n",
      "\n",
      "In biology, transformers are used for various purposes, including:\n",
      "\n",
      "1. **Genomic analysis**: Transformers can be used to analyze genomic data, such as gene expression, mutation, and variation, to identify patterns and relationships that may not be apparent through traditional methods.\n",
      "2. **Protein structure prediction**: Transformers can be used to predict the three-dimensional structure of proteins, which is crucial for understanding their function and behavior.\n",
      "3. **Gene regulation analysis**: Transformers can be used to analyze the regulatory interactions between genes, which can help understand the complex mechanisms of gene regulation.\n",
      "4. **Metagenomics analysis**: Transformers can be used to analyze the genomic data from microbial communities, which can help understand the composition and function of these communities.\n",
      "5. **Single-cell analysis**: Transformers can be used to analyze the genomic and transcriptomic data from individual cells, which can help understand the heterogeneity of cell populations.\n",
      "\n",
      "The advantages of using transformers in biology include:\n",
      "\n",
      "1. **Scalability**: Transformers can handle large datasets, making them suitable for analyzing high-throughput data.\n",
      "2. **Flexibility**: Transformers can be used for a variety of tasks, from predicting protein structures to analyzing gene regulation.\n",
      "3. **Interpretability**: Transformers can provide interpretable results, which is essential in biology where understanding the underlying mechanisms is crucial.\n",
      "\n",
      "However, there are also challenges associated with using transformers in biology, such as:\n",
      "\n",
      "1. **Data quality**: Transformers require high-quality data, and poor data quality can lead to inaccurate results.\n",
      "2. **Computational resources**: Transformers require significant computational resources, which can be a challenge for researchers with limited computing power.\n",
      "3. **Interpretability**: While transformers can provide interpretable results, understanding the underlying mechanisms can still be challenging.\n",
      "\n",
      "Overall, transformers have the potential to revolutionize the field of biology by providing new insights into complex biological systems. However, further research is needed to address the challenges associated with using transformers in biology.\n",
      "\n",
      "If you would like more information on transformers in biology, I can try to provide more specific information based on the abstract you provided earlier, but since there is no abstract, I couldn't find any information on this specific topic.\n"
     ]
    }
   ],
   "source": [
    "abstracts = '\\n\\n'.join(data.iloc[topK_indices]['abstract'].to_list())\n",
    "messages = [\n",
    "    {\"role\": \"system\", \"content\": \"You are a research assistant. Answer the user’s query as accurately as possible using your knowledge and the provided abstracts. \\\n",
    "     Do not summarize the abstracts unless explicitly asked. Use your knowledge first if the question is general. Only use the abstracts if this is explicitly asked\"},\n",
    "    {\"role\": \"user\", \"content\": f\"Here are the abstracts of recent papers:\\n\\n{abstracts}\\n\\nBased on this information and on your knowledge, please answer the following question:\\n\\n{query}\"}\n",
    "]\n",
    "outputs = pipe(\n",
    "    messages,\n",
    "    max_new_tokens=10000,\n",
    ")\n",
    "print(outputs[0][\"generated_text\"][-1]['content'])"
   ]
  },
  {
   "cell_type": "code",
   "execution_count": null,
   "metadata": {},
   "outputs": [],
   "source": []
  },
  {
   "cell_type": "markdown",
   "metadata": {},
   "source": [
    "## Attempt to use Llama-3.2-70B locally"
   ]
  },
  {
   "cell_type": "code",
   "execution_count": 1,
   "metadata": {},
   "outputs": [
    {
     "data": {
      "application/vnd.jupyter.widget-view+json": {
       "model_id": "dd89d55d90d34e598da6db05e49a13cb",
       "version_major": 2,
       "version_minor": 0
      },
      "text/plain": [
       "Loading checkpoint shards:   0%|          | 0/30 [00:00<?, ?it/s]"
      ]
     },
     "metadata": {},
     "output_type": "display_data"
    },
    {
     "name": "stderr",
     "output_type": "stream",
     "text": [
      "Some parameters are on the meta device because they were offloaded to the cpu.\n",
      "Setting `pad_token_id` to `eos_token_id`:128001 for open-end generation.\n"
     ]
    },
    {
     "name": "stdout",
     "output_type": "stream",
     "text": [
      "What are we having for dinner? I was thinking we could go to that new restaurant\n"
     ]
    }
   ],
   "source": [
    "import torch\n",
    "from transformers import AutoModelForCausalLM, AutoTokenizer, BitsAndBytesConfig\n",
    "\n",
    "model_id = \"meta-llama/Llama-3.3-70B-Instruct\"\n",
    "quantization_config = BitsAndBytesConfig(load_in_4bit=True)\n",
    "\n",
    "quantized_model = AutoModelForCausalLM.from_pretrained(\n",
    "    model_id, device_map='auto', torch_dtype=torch.bfloat16, quantization_config=quantization_config)\n",
    "\n",
    "tokenizer = AutoTokenizer.from_pretrained(model_id)\n",
    "input_text = \"What are we having for dinner?\"\n",
    "input_ids = tokenizer(input_text, return_tensors=\"pt\").to(\"cuda\")\n",
    "\n",
    "output = quantized_model.generate(**input_ids, max_new_tokens=10)\n",
    "\n",
    "print(tokenizer.decode(output[0], skip_special_tokens=True))"
   ]
  },
  {
   "cell_type": "code",
   "execution_count": 16,
   "metadata": {},
   "outputs": [
    {
     "name": "stderr",
     "output_type": "stream",
     "text": [
      "Setting `pad_token_id` to `eos_token_id`:128001 for open-end generation.\n"
     ]
    },
    {
     "name": "stdout",
     "output_type": "stream",
     "text": [
      "you are a research assistant. use the provided research papers to answer questions accurately. do not summarize unless asked. here are some research abstracts : we propose a new approach to learned optimization where we represent the computation of an optimizer ' s update step using a neural network. the parameters of the optimizer are then learned by training on a set of optimization tasks with the objective to perform minimization efficiently. our innovation is a new neural network architecture, optimus, for the learned optimizer inspired by the classic bfgs algorithm. as in bfgs, we estimate a preconditioning matrix as a sum of rank - one updates but use a transformerbased neural network to predict these updates jointly with the step length and direction. in contrast to several recent learned optimization - based approaches [ 24, 27 ], our formulation allows for conditioning across the dimensions of the parameter space of the target problem while remaining applicable to optimization tasks of variable dimensionality without retraining. we demonstrate the advantages of our approach on a benchmark composed of objective functions traditionally used for the evaluation of optimization algorithms, as well as on the real world - task of physics - based visual reconstruction of articulated 3d human motion. none none none none transformer - based language models ( lms ) are at the core of modern nlp, but their internal prediction construction process is opaque and largely not understood. in this work, we make a substantial step towards unveiling this underlying prediction process, by reverse - engineering the operation of the feed - forward network ( ffn ) layers, one of the building blocks of transformer models. we view the token representation as a changing distribution over the vocabulary, and the output from each ffn layer as an additive update to that distribution. then, we analyze the ffn updates in the vocabulary space, showing that each update can be decomposed to sub - updates corresponding to single ffn parameter vectors, each promoting concepts that are often human - interpretable. we then leverage these findings for controlling lm predictions, where we reduce the toxicity of gpt2 by almost 50 %, and for improving computation efficiency with a simple early exit rule, saving 20 % of computation on average. in the past few years we have seen the meteoric appearance of dozens of foundation models of the transformer family, all of which have memorable and sometimes funny, but not self - explanatory, names. the goal of this paper is to offer a somewhat comprehensive but simple catalog and classification of the most popular transformer models. the paper also includes an introduction to the most important aspects and innovations in transformer models. our catalog will include models that are trained using self - supervised learning ( e. g., bert or gpt3 ) as well as those that are further trained using a human - in - the - loop ( e. g. the instructgpt model used by chatgpt ). none none this study proposes a multi - modal fusion framework multitrans based on the transformer architecture and self - attention mechanism. this architecture combines the study of non - contrast computed tomography ( ncct ) images and discharge diagnosis reports of patients undergoing stroke treatment, using a variety of methods based on transformer architecture approach to predicting functional outcomes of stroke treatment. the results show that the performance of single - modal text classification is significantly better than single - modal image classification, but the effect of multi - modal combination is better than any single modality. although the transformer model only performs worse on imaging data, when combined with clinical meta - diagnostic information, both can learn better complementary information and make good contributions to accurately predicting stroke treatment effects. based on these, please answer the question : how transformer neural architecture are implemented? [unused657] the transformer neural [unused657] the transformer neural [unused657] the transformer neural [unused657] the transformer neural [unused657] the transformer neural [unused657] the transformer neural [unused657] the transformer neural [unused657] the transformer neural [unused657] the transformer neural [unused657] the transformer neural [unused657] the transformer neural [unused657] the transformer neural [unused657] the transformer neural [unused657] the transformer neural [unused657] the transformer neural [unused657] the transformer neural [unused657] the transformer neural [unused657] the transformer neural [unused657] the transformer neural [unused657] the transformer neural [unused657] the transformer neural [unused657] the transformer neural [unused657] the transformer neural [unused657] the transformer neural [unused657] the transformer neural [unused657] the transformer neural [unused657] the transformer neural [unused657] the transformer neural [unused657] the transformer neural [unused657] the transformer neural [unused657] the transformer neural [unused657] the transformer neural [unused657] the transformer neural [unused657] the\n"
     ]
    }
   ],
   "source": [
    "# Convert messages to ChatML format\n",
    "abstracts = '\\n\\n'.join(data.iloc[topK_indices]['abstract'].to_list())\n",
    "input_text = f\"You are a research assistant. Use the provided research papers to answer questions accurately. Do not summarize unless asked.\" + f\"Here are some research abstracts:\\n\\n{abstracts}\\n\\n Based on these, please answer the question: {query}\\n\"\n",
    "\n",
    "# Tokenize and generate response\n",
    "input_ids = tokenizer(input_text, return_tensors=\"pt\").to(\"cuda\")\n",
    "output = quantized_model.generate(**input_ids, max_new_tokens=200)\n",
    "\n",
    "# Decode and print output\n",
    "response = tokenizer.decode(output[0], skip_special_tokens=True)\n",
    "print(response)"
   ]
  },
  {
   "cell_type": "code",
   "execution_count": 46,
   "metadata": {},
   "outputs": [],
   "source": [
    "import gc\n",
    "gc.collect()\n",
    "torch.cuda.empty_cache()"
   ]
  },
  {
   "cell_type": "code",
   "execution_count": null,
   "metadata": {},
   "outputs": [],
   "source": []
  }
 ],
 "metadata": {
  "kernelspec": {
   "display_name": "asXai",
   "language": "python",
   "name": "python3"
  },
  "language_info": {
   "codemirror_mode": {
    "name": "ipython",
    "version": 3
   },
   "file_extension": ".py",
   "mimetype": "text/x-python",
   "name": "python",
   "nbconvert_exporter": "python",
   "pygments_lexer": "ipython3",
   "version": "3.12.9"
  }
 },
 "nbformat": 4,
 "nbformat_minor": 2
}
